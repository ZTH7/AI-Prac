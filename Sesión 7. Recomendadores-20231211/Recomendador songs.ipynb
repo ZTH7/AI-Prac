{
 "cells": [
  {
   "cell_type": "markdown",
   "metadata": {},
   "source": [
    "## Sistema recomendador de canciones"
   ]
  },
  {
   "cell_type": "code",
   "execution_count": 115,
   "metadata": {},
   "outputs": [],
   "source": [
    "import numpy as np\n",
    "import pandas as pd\n",
    "import matplotlib.pyplot as plt\n",
    "import seaborn as sns"
   ]
  },
  {
   "cell_type": "markdown",
   "metadata": {},
   "source": [
    "### Cargamos los datos y realizamos un análisis exploratorio de los mismos"
   ]
  },
  {
   "cell_type": "code",
   "execution_count": 116,
   "metadata": {},
   "outputs": [],
   "source": [
    "ratings = pd.read_csv('ratings_songs.csv')\n",
    "songs = pd.read_csv('songs.csv')"
   ]
  },
  {
   "cell_type": "markdown",
   "metadata": {},
   "source": [
    "Podemos buscar una canción si sabemos su nombre con la siguiente función:"
   ]
  },
  {
   "cell_type": "code",
   "execution_count": 117,
   "metadata": {},
   "outputs": [
    {
     "data": {
      "text/plain": [
       "['Happy - From \"Despicable Me 2\"']"
      ]
     },
     "execution_count": 117,
     "metadata": {},
     "output_type": "execute_result"
    }
   ],
   "source": [
    "def song_finder(title):\n",
    "    return songs[songs['title'].str.contains(title)]['title'].tolist()\n",
    "\n",
    "song_finder('Happy')"
   ]
  },
  {
   "cell_type": "code",
   "execution_count": 118,
   "metadata": {},
   "outputs": [],
   "source": [
    "##Vamos a filtrar los ratings para quedarnos solo con valoraciones que corresponden a la peliculas del data set (numeradas del 0 al 603) \n",
    "ratings = ratings.loc[ratings['songId'] <= 603]"
   ]
  },
  {
   "cell_type": "markdown",
   "metadata": {},
   "source": [
    "Podemos contar los elementos distintos con la función Series.nunique(dropna=True) (el parámetro indica si ignorar los valores NaN)."
   ]
  },
  {
   "cell_type": "code",
   "execution_count": 119,
   "metadata": {},
   "outputs": [
    {
     "name": "stdout",
     "output_type": "stream",
     "text": [
      "Numero de ratings: 53589\n",
      "Numero de songId's: 604\n",
      "Numero de users: 606\n",
      "Número medio de ratings por usuario: 88.43\n",
      "Número medio de ratings por canción: 88.72\n"
     ]
    }
   ],
   "source": [
    "n_ratings = len(ratings)\n",
    "n_songs = ratings['songId'].nunique()\n",
    "n_users = ratings['userId'].nunique()\n",
    "print(f\"Numero de ratings: {n_ratings}\")\n",
    "print(f\"Numero de songId's: {n_songs}\")\n",
    "print(f\"Numero de users: {n_users}\")\n",
    "print(f\"Número medio de ratings por usuario: {round(n_ratings/n_users, 2)}\")\n",
    "print(f\"Número medio de ratings por canción: {round(n_ratings/n_songs, 2)}\")"
   ]
  },
  {
   "cell_type": "code",
   "execution_count": 120,
   "metadata": {},
   "outputs": [
    {
     "data": {
      "image/png": "[encoded data removed]",
      "text/plain": [
       "<Figure size 640x480 with 1 Axes>"
      ]
     },
     "metadata": {},
     "output_type": "display_data"
    }
   ],
   "source": [
    "#sns.countplot(x=\"rating\", data=ratings, palette=\"viridis\")\n",
    "sns.countplot(x=\"rating\", data=ratings)\n",
    "plt.title(\"Distribución de los ratings de las canciones\", fontsize=14)\n",
    "plt.show()"
   ]
  },
  {
   "cell_type": "code",
   "execution_count": 121,
   "metadata": {},
   "outputs": [
    {
     "name": "stdout",
     "output_type": "stream",
     "text": [
      "Rating global medio: 2.49.\n",
      "Ratio medio por usuario: 2.47.\n"
     ]
    }
   ],
   "source": [
    "print(f\"Rating global medio: {round(ratings['rating'].mean(),2)}.\")\n",
    "mean_ratings = ratings.groupby('userId')['rating'].mean()\n",
    "print(f\"Ratio medio por usuario: {round(mean_ratings.mean(),2)}.\")"
   ]
  },
  {
   "cell_type": "markdown",
   "metadata": {},
   "source": [
    "### 1. Recomendador basado en popularidad\n",
    "Vamos a hacer un recomendador basado en popularidad.\n",
    "\n",
    "Usamos __la media bayesiana__ [Bayesian average](https://en.wikipedia.org/wiki/Bayesian_average) para evaluar la popularidad de las canciones, la que no está afectada por el número de valoraciones. La media bayesiana es un concepto relacionado con la estadística y la teoría de probabilidad que se utiliza para calcular la media de una distribución de probabilidad a partir de una combinación de la información previa y de la nueva información observada. En contraste con la media aritmética común, que se calcula simplemente promediando los valores observados, la media bayesiana toma en cuenta la incertidumbre inherente a los datos y la incorpora de manera formal en el cálculo de la media."
   ]
  },
  {
   "cell_type": "markdown",
   "metadata": {},
   "source": [
    "Para este ejemplo vamos a utilizar la siguiente definición de _Media Bayesiana_:\n",
    "\n",
    "$r_{i} = \\frac{C \\times m + \\Sigma{\\text{reviews}}}{C+N}$\n",
    "\n",
    "Donde:\n",
    "  - $C$ representa la confianza\n",
    "  - $m$ representa el conocimiento previo (prior) que en este ejemplo será el rating medio (calculado con todas las canciones). \n",
    "  - $N$ es el numero total de ratings para la canción $i$ \n",
    "  - $C$ representa el tamaño típico de un data set. En este caso $C$ será el número medio de ratings de las canciones. "
   ]
  },
  {
   "cell_type": "markdown",
   "metadata": {},
   "source": [
    "El cálculo de la media bayesiana es útil en situaciones donde queremos combinar información previa con nuevos datos para obtener una estimación más precisa y ajustada de una variable. Esta técnica es especialmente útil en el contexto del aprendizaje automático y la inferencia bayesiana, donde se modelan distribuciones de probabilidad para tomar decisiones basadas en datos y creencias previas."
   ]
  },
  {
   "cell_type": "code",
   "execution_count": 122,
   "metadata": {},
   "outputs": [],
   "source": [
    "song_stats = ratings.groupby('songId')[['rating']].agg(['count', 'mean'])\n",
    "song_stats.columns = song_stats.columns.droplevel()"
   ]
  },
  {
   "cell_type": "code",
   "execution_count": 123,
   "metadata": {},
   "outputs": [],
   "source": [
    "C = song_stats['count'].mean()\n",
    "m = song_stats['mean'].mean()\n",
    "\n",
    "def bayesian_avg(ratings):\n",
    "    bayesian_avg = (C*m+ratings.sum())/(C+ratings.count())\n",
    "    return bayesian_avg\n",
    "\n",
    "bayesian_avg_ratings = ratings.groupby('songId')['rating'].agg(bayesian_avg).reset_index()\n",
    "bayesian_avg_ratings.columns = ['songId', 'bayesian_avg']\n",
    "song_stats = song_stats.merge(bayesian_avg_ratings, on='songId')"
   ]
  },
  {
   "cell_type": "code",
   "execution_count": 124,
   "metadata": {},
   "outputs": [
    {
     "data": {
      "text/html": [
       "<div>\n",
       "<style scoped>\n",
       "    .dataframe tbody tr th:only-of-type {\n",
       "        vertical-align: middle;\n",
       "    }\n",
       "\n",
       "    .dataframe tbody tr th {\n",
       "        vertical-align: top;\n",
       "    }\n",
       "\n",
       "    .dataframe thead th {\n",
       "        text-align: right;\n",
       "    }\n",
       "</style>\n",
       "<table border=\"1\" class=\"dataframe\">\n",
       "  <thead>\n",
       "    <tr style=\"text-align: right;\">\n",
       "      <th></th>\n",
       "      <th>songId</th>\n",
       "      <th>count</th>\n",
       "      <th>mean</th>\n",
       "      <th>bayesian_avg</th>\n",
       "      <th>id</th>\n",
       "      <th>title</th>\n",
       "    </tr>\n",
       "  </thead>\n",
       "  <tbody>\n",
       "    <tr>\n",
       "      <th>61</th>\n",
       "      <td>62</td>\n",
       "      <td>98</td>\n",
       "      <td>3.030612</td>\n",
       "      <td>2.774259</td>\n",
       "      <td>62</td>\n",
       "      <td>What the Hell</td>\n",
       "    </tr>\n",
       "    <tr>\n",
       "      <th>144</th>\n",
       "      <td>145</td>\n",
       "      <td>81</td>\n",
       "      <td>3.061728</td>\n",
       "      <td>2.763432</td>\n",
       "      <td>145</td>\n",
       "      <td>Roar</td>\n",
       "    </tr>\n",
       "    <tr>\n",
       "      <th>581</th>\n",
       "      <td>582</td>\n",
       "      <td>90</td>\n",
       "      <td>2.988889</td>\n",
       "      <td>2.741773</td>\n",
       "      <td>582</td>\n",
       "      <td>Good as Hell (feat. Ariana Grande) - Remix</td>\n",
       "    </tr>\n",
       "    <tr>\n",
       "      <th>60</th>\n",
       "      <td>61</td>\n",
       "      <td>87</td>\n",
       "      <td>2.977011</td>\n",
       "      <td>2.731674</td>\n",
       "      <td>61</td>\n",
       "      <td>Tonight Tonight</td>\n",
       "    </tr>\n",
       "    <tr>\n",
       "      <th>102</th>\n",
       "      <td>103</td>\n",
       "      <td>79</td>\n",
       "      <td>2.936709</td>\n",
       "      <td>2.700989</td>\n",
       "      <td>103</td>\n",
       "      <td>Firework</td>\n",
       "    </tr>\n",
       "  </tbody>\n",
       "</table>\n",
       "</div>"
      ],
      "text/plain": [
       "     songId  count      mean  bayesian_avg   id  \\\n",
       "61       62     98  3.030612      2.774259   62   \n",
       "144     145     81  3.061728      2.763432  145   \n",
       "581     582     90  2.988889      2.741773  582   \n",
       "60       61     87  2.977011      2.731674   61   \n",
       "102     103     79  2.936709      2.700989  103   \n",
       "\n",
       "                                          title  \n",
       "61                                What the Hell  \n",
       "144                                        Roar  \n",
       "581  Good as Hell (feat. Ariana Grande) - Remix  \n",
       "60                              Tonight Tonight  \n",
       "102                                    Firework  "
      ]
     },
     "execution_count": 124,
     "metadata": {},
     "output_type": "execute_result"
    }
   ],
   "source": [
    "song_stats = song_stats.merge(songs[['id', 'title']], left_on='songId', right_on='id')\n",
    "song_stats.sort_values('bayesian_avg', ascending=False).head()"
   ]
  },
  {
   "cell_type": "markdown",
   "metadata": {},
   "source": [
    "Utilizando la media bayesiana, vemos que `What the Hell`, `Roar`, y `Good as Hell (feat. Ariana Grande) - Remix` son las canciones mejor valoradas. Este resultado tiene mucho más sentido ya que estas canciones son ampliamente aclamadas por la crítica."
   ]
  },
  {
   "cell_type": "code",
   "execution_count": 125,
   "metadata": {},
   "outputs": [
    {
     "data": {
      "text/html": [
       "<div>\n",
       "<style scoped>\n",
       "    .dataframe tbody tr th:only-of-type {\n",
       "        vertical-align: middle;\n",
       "    }\n",
       "\n",
       "    .dataframe tbody tr th {\n",
       "        vertical-align: top;\n",
       "    }\n",
       "\n",
       "    .dataframe thead th {\n",
       "        text-align: right;\n",
       "    }\n",
       "</style>\n",
       "<table border=\"1\" class=\"dataframe\">\n",
       "  <thead>\n",
       "    <tr style=\"text-align: right;\">\n",
       "      <th></th>\n",
       "      <th>songId</th>\n",
       "      <th>count</th>\n",
       "      <th>mean</th>\n",
       "      <th>bayesian_avg</th>\n",
       "      <th>id</th>\n",
       "      <th>title</th>\n",
       "    </tr>\n",
       "  </thead>\n",
       "  <tbody>\n",
       "    <tr>\n",
       "      <th>582</th>\n",
       "      <td>583</td>\n",
       "      <td>97</td>\n",
       "      <td>2.000000</td>\n",
       "      <td>2.234608</td>\n",
       "      <td>583</td>\n",
       "      <td>Higher Love</td>\n",
       "    </tr>\n",
       "    <tr>\n",
       "      <th>52</th>\n",
       "      <td>53</td>\n",
       "      <td>84</td>\n",
       "      <td>1.964286</td>\n",
       "      <td>2.234897</td>\n",
       "      <td>53</td>\n",
       "      <td>Someone Like You</td>\n",
       "    </tr>\n",
       "    <tr>\n",
       "      <th>219</th>\n",
       "      <td>220</td>\n",
       "      <td>78</td>\n",
       "      <td>1.948718</td>\n",
       "      <td>2.237353</td>\n",
       "      <td>220</td>\n",
       "      <td>Treasure</td>\n",
       "    </tr>\n",
       "    <tr>\n",
       "      <th>119</th>\n",
       "      <td>120</td>\n",
       "      <td>76</td>\n",
       "      <td>1.947368</td>\n",
       "      <td>2.240235</td>\n",
       "      <td>120</td>\n",
       "      <td>Glad You Came</td>\n",
       "    </tr>\n",
       "    <tr>\n",
       "      <th>338</th>\n",
       "      <td>339</td>\n",
       "      <td>75</td>\n",
       "      <td>1.986667</td>\n",
       "      <td>2.260026</td>\n",
       "      <td>339</td>\n",
       "      <td>Prayer in C - Robin Schulz Radio Edit</td>\n",
       "    </tr>\n",
       "  </tbody>\n",
       "</table>\n",
       "</div>"
      ],
      "text/plain": [
       "     songId  count      mean  bayesian_avg   id  \\\n",
       "582     583     97  2.000000      2.234608  583   \n",
       "52       53     84  1.964286      2.234897   53   \n",
       "219     220     78  1.948718      2.237353  220   \n",
       "119     120     76  1.947368      2.240235  120   \n",
       "338     339     75  1.986667      2.260026  339   \n",
       "\n",
       "                                     title  \n",
       "582                            Higher Love  \n",
       "52                        Someone Like You  \n",
       "219                               Treasure  \n",
       "119                          Glad You Came  \n",
       "338  Prayer in C - Robin Schulz Radio Edit  "
      ]
     },
     "execution_count": 125,
     "metadata": {},
     "output_type": "execute_result"
    }
   ],
   "source": [
    "song_stats.sort_values('bayesian_avg', ascending=True).head()"
   ]
  },
  {
   "cell_type": "markdown",
   "metadata": {},
   "source": [
    "Con el promedio bayesiano, parece que `Higher Love`, `Someone Like You`, y `Treasure` son las canciones peor valoradas."
   ]
  },
  {
   "cell_type": "markdown",
   "metadata": {},
   "source": [
    "### 2. Recomendador basado en contenidos teniendo en cuenta los géneros exactos de las canciones\n",
    "\n",
    "Además de recomendar las canciones más o menos populares del data set podemos hacer una recomendación basada en contenidos. Los datos que tenemos de las canciones son sólo el título, el año y el género, por lo que haremos un recomendador que tenga en cuenta los géneros de las canciones. Esto permitirá enriquecer las recomendaciones de forma personalizada según los gustos específicos. En este caso no se aplica similitud sino simplemente un filtro exacto sobre los géneros.\n",
    "\n",
    "Recordamos que en el dataset de canciones:\n",
    "- `top genre` se expresa como una cadena de texto con un carácter \" \" que separa cada género. \n",
    "\n",
    "Vamos a manipular esta cadena para convertirla en una lista, lo que facilitará su análisis.\n",
    "\n",
    "- `title` actualmente tiene el año entre paréntesis al final. \n",
    "\n",
    "Extraeremos el año de cada cadena de título y crearemos una nueva columna para él."
   ]
  },
  {
   "cell_type": "code",
   "execution_count": 126,
   "metadata": {},
   "outputs": [
    {
     "data": {
      "text/plain": [
       "0           neo mellow\n",
       "1      detroit hip hop\n",
       "2            dance pop\n",
       "3            dance pop\n",
       "4                  pop\n",
       "            ...       \n",
       "598          dance pop\n",
       "599                pop\n",
       "600          dance pop\n",
       "601          dance pop\n",
       "602         electropop\n",
       "Name: top genre, Length: 603, dtype: object"
      ]
     },
     "execution_count": 126,
     "metadata": {},
     "output_type": "execute_result"
    }
   ],
   "source": [
    "songs['top genre']"
   ]
  },
  {
   "cell_type": "code",
   "execution_count": 127,
   "metadata": {},
   "outputs": [
    {
     "data": {
      "text/html": [
       "<div>\n",
       "<style scoped>\n",
       "    .dataframe tbody tr th:only-of-type {\n",
       "        vertical-align: middle;\n",
       "    }\n",
       "\n",
       "    .dataframe tbody tr th {\n",
       "        vertical-align: top;\n",
       "    }\n",
       "\n",
       "    .dataframe thead th {\n",
       "        text-align: right;\n",
       "    }\n",
       "</style>\n",
       "<table border=\"1\" class=\"dataframe\">\n",
       "  <thead>\n",
       "    <tr style=\"text-align: right;\">\n",
       "      <th></th>\n",
       "      <th>id</th>\n",
       "      <th>title</th>\n",
       "      <th>artist</th>\n",
       "      <th>top genre</th>\n",
       "      <th>year</th>\n",
       "      <th>bpm</th>\n",
       "      <th>nrgy</th>\n",
       "      <th>dnce</th>\n",
       "      <th>dB</th>\n",
       "      <th>live</th>\n",
       "      <th>val</th>\n",
       "      <th>dur</th>\n",
       "      <th>acous</th>\n",
       "      <th>spch</th>\n",
       "      <th>pop</th>\n",
       "    </tr>\n",
       "  </thead>\n",
       "  <tbody>\n",
       "    <tr>\n",
       "      <th>0</th>\n",
       "      <td>1</td>\n",
       "      <td>Hey, Soul Sister</td>\n",
       "      <td>Train</td>\n",
       "      <td>[neo, mellow]</td>\n",
       "      <td>2010</td>\n",
       "      <td>97</td>\n",
       "      <td>89</td>\n",
       "      <td>67</td>\n",
       "      <td>-4</td>\n",
       "      <td>8</td>\n",
       "      <td>80</td>\n",
       "      <td>217</td>\n",
       "      <td>19</td>\n",
       "      <td>4</td>\n",
       "      <td>83</td>\n",
       "    </tr>\n",
       "    <tr>\n",
       "      <th>1</th>\n",
       "      <td>2</td>\n",
       "      <td>Love The Way You Lie</td>\n",
       "      <td>Eminem</td>\n",
       "      <td>[detroit, hip, hop]</td>\n",
       "      <td>2010</td>\n",
       "      <td>87</td>\n",
       "      <td>93</td>\n",
       "      <td>75</td>\n",
       "      <td>-5</td>\n",
       "      <td>52</td>\n",
       "      <td>64</td>\n",
       "      <td>263</td>\n",
       "      <td>24</td>\n",
       "      <td>23</td>\n",
       "      <td>82</td>\n",
       "    </tr>\n",
       "    <tr>\n",
       "      <th>2</th>\n",
       "      <td>3</td>\n",
       "      <td>TiK ToK</td>\n",
       "      <td>Kesha</td>\n",
       "      <td>[dance, pop]</td>\n",
       "      <td>2010</td>\n",
       "      <td>120</td>\n",
       "      <td>84</td>\n",
       "      <td>76</td>\n",
       "      <td>-3</td>\n",
       "      <td>29</td>\n",
       "      <td>71</td>\n",
       "      <td>200</td>\n",
       "      <td>10</td>\n",
       "      <td>14</td>\n",
       "      <td>80</td>\n",
       "    </tr>\n",
       "    <tr>\n",
       "      <th>3</th>\n",
       "      <td>4</td>\n",
       "      <td>Bad Romance</td>\n",
       "      <td>Lady Gaga</td>\n",
       "      <td>[dance, pop]</td>\n",
       "      <td>2010</td>\n",
       "      <td>119</td>\n",
       "      <td>92</td>\n",
       "      <td>70</td>\n",
       "      <td>-4</td>\n",
       "      <td>8</td>\n",
       "      <td>71</td>\n",
       "      <td>295</td>\n",
       "      <td>0</td>\n",
       "      <td>4</td>\n",
       "      <td>79</td>\n",
       "    </tr>\n",
       "    <tr>\n",
       "      <th>4</th>\n",
       "      <td>5</td>\n",
       "      <td>Just the Way You Are</td>\n",
       "      <td>Bruno Mars</td>\n",
       "      <td>[pop]</td>\n",
       "      <td>2010</td>\n",
       "      <td>109</td>\n",
       "      <td>84</td>\n",
       "      <td>64</td>\n",
       "      <td>-5</td>\n",
       "      <td>9</td>\n",
       "      <td>43</td>\n",
       "      <td>221</td>\n",
       "      <td>2</td>\n",
       "      <td>4</td>\n",
       "      <td>78</td>\n",
       "    </tr>\n",
       "  </tbody>\n",
       "</table>\n",
       "</div>"
      ],
      "text/plain": [
       "   id                 title      artist            top genre  year  bpm  nrgy  \\\n",
       "0   1      Hey, Soul Sister       Train        [neo, mellow]  2010   97    89   \n",
       "1   2  Love The Way You Lie      Eminem  [detroit, hip, hop]  2010   87    93   \n",
       "2   3               TiK ToK       Kesha         [dance, pop]  2010  120    84   \n",
       "3   4           Bad Romance   Lady Gaga         [dance, pop]  2010  119    92   \n",
       "4   5  Just the Way You Are  Bruno Mars                [pop]  2010  109    84   \n",
       "\n",
       "   dnce  dB  live  val  dur  acous  spch  pop  \n",
       "0    67  -4     8   80  217     19     4   83  \n",
       "1    75  -5    52   64  263     24    23   82  \n",
       "2    76  -3    29   71  200     10    14   80  \n",
       "3    70  -4     8   71  295      0     4   79  \n",
       "4    64  -5     9   43  221      2     4   78  "
      ]
     },
     "execution_count": 127,
     "metadata": {},
     "output_type": "execute_result"
    }
   ],
   "source": [
    "songs['top genre'] = songs['top genre'].apply(lambda x: x.split(\" \"))\n",
    "songs.head()"
   ]
  },
  {
   "cell_type": "markdown",
   "metadata": {},
   "source": [
    "Vamos a ver cuántos géneros diferentes hay en el dataset y cuántas canciones tenemos de cada género utilizando Counter sobre la Serie de datos de la columna `top genre`. "
   ]
  },
  {
   "cell_type": "code",
   "execution_count": 128,
   "metadata": {},
   "outputs": [
    {
     "name": "stdout",
     "output_type": "stream",
     "text": [
      "There are 55 genres.\n"
     ]
    },
    {
     "data": {
      "text/plain": [
       "Counter({'pop': 469,\n",
       "         'dance': 333,\n",
       "         'canadian': 46,\n",
       "         'hip': 20,\n",
       "         'barbadian': 15,\n",
       "         'boy': 15,\n",
       "         'band': 15,\n",
       "         'hop': 14,\n",
       "         'electropop': 13,\n",
       "         'australian': 12,\n",
       "         'room': 12,\n",
       "         'british': 11,\n",
       "         'soul': 11,\n",
       "         'big': 10,\n",
       "         'contemporary': 10,\n",
       "         'r&b': 10,\n",
       "         'neo': 9,\n",
       "         'mellow': 9,\n",
       "         'art': 8,\n",
       "         'edm': 7,\n",
       "         'complextro': 6,\n",
       "         'atl': 5,\n",
       "         'house': 5,\n",
       "         'latin': 5,\n",
       "         'indie': 4,\n",
       "         'permanent': 4,\n",
       "         'wave': 4,\n",
       "         'colombian': 3,\n",
       "         'electro': 3,\n",
       "         'tropical': 3,\n",
       "         'detroit': 2,\n",
       "         'acoustic': 2,\n",
       "         'baroque': 2,\n",
       "         'candy': 2,\n",
       "         'folk-pop': 2,\n",
       "         'belgian': 2,\n",
       "         'electronic': 2,\n",
       "         'trap': 2,\n",
       "         'downtempo': 2,\n",
       "         'brostep': 2,\n",
       "         'escape': 2,\n",
       "         'chicago': 1,\n",
       "         'rap': 1,\n",
       "         'celtic': 1,\n",
       "         'rock': 1,\n",
       "         'alaska': 1,\n",
       "         'metropopolis': 1,\n",
       "         'hollywood': 1,\n",
       "         'irish': 1,\n",
       "         'singer-songwriter': 1,\n",
       "         'french': 1,\n",
       "         'danish': 1,\n",
       "         'country': 1,\n",
       "         'moroccan': 1,\n",
       "         'alternative': 1})"
      ]
     },
     "execution_count": 128,
     "metadata": {},
     "output_type": "execute_result"
    }
   ],
   "source": [
    "from collections import Counter\n",
    "genre_frequency = Counter(g for genres in songs['top genre'] for g in genres)\n",
    "print(f\"There are {len(genre_frequency)} genres.\")\n",
    "genre_frequency"
   ]
  },
  {
   "cell_type": "code",
   "execution_count": 129,
   "metadata": {},
   "outputs": [
    {
     "name": "stdout",
     "output_type": "stream",
     "text": [
      "Los 5 géneros más comunes son: \n",
      " [('pop', 469), ('dance', 333), ('canadian', 46), ('hip', 20), ('barbadian', 15)]\n"
     ]
    }
   ],
   "source": [
    "print(\"Los 5 géneros más comunes son: \\n\", genre_frequency.most_common(5))"
   ]
  },
  {
   "cell_type": "code",
   "execution_count": 130,
   "metadata": {},
   "outputs": [],
   "source": [
    "# songs = pd.read_csv('songs.csv')\n",
    "def recommender_by_genre(genre):\n",
    "    songs_grouped = songs[songs['top genre'].apply(lambda x: genre in x)]\n",
    "    return songs_grouped[['id', 'title', 'top genre']]"
   ]
  },
  {
   "cell_type": "code",
   "execution_count": 131,
   "metadata": {},
   "outputs": [
    {
     "data": {
      "text/html": [
       "<div>\n",
       "<style scoped>\n",
       "    .dataframe tbody tr th:only-of-type {\n",
       "        vertical-align: middle;\n",
       "    }\n",
       "\n",
       "    .dataframe tbody tr th {\n",
       "        vertical-align: top;\n",
       "    }\n",
       "\n",
       "    .dataframe thead th {\n",
       "        text-align: right;\n",
       "    }\n",
       "</style>\n",
       "<table border=\"1\" class=\"dataframe\">\n",
       "  <thead>\n",
       "    <tr style=\"text-align: right;\">\n",
       "      <th></th>\n",
       "      <th>id</th>\n",
       "      <th>title</th>\n",
       "      <th>top genre</th>\n",
       "    </tr>\n",
       "  </thead>\n",
       "  <tbody>\n",
       "    <tr>\n",
       "      <th>2</th>\n",
       "      <td>3</td>\n",
       "      <td>TiK ToK</td>\n",
       "      <td>[dance, pop]</td>\n",
       "    </tr>\n",
       "    <tr>\n",
       "      <th>3</th>\n",
       "      <td>4</td>\n",
       "      <td>Bad Romance</td>\n",
       "      <td>[dance, pop]</td>\n",
       "    </tr>\n",
       "    <tr>\n",
       "      <th>4</th>\n",
       "      <td>5</td>\n",
       "      <td>Just the Way You Are</td>\n",
       "      <td>[pop]</td>\n",
       "    </tr>\n",
       "    <tr>\n",
       "      <th>5</th>\n",
       "      <td>6</td>\n",
       "      <td>Baby</td>\n",
       "      <td>[canadian, pop]</td>\n",
       "    </tr>\n",
       "    <tr>\n",
       "      <th>6</th>\n",
       "      <td>7</td>\n",
       "      <td>Dynamite</td>\n",
       "      <td>[dance, pop]</td>\n",
       "    </tr>\n",
       "    <tr>\n",
       "      <th>...</th>\n",
       "      <td>...</td>\n",
       "      <td>...</td>\n",
       "      <td>...</td>\n",
       "    </tr>\n",
       "    <tr>\n",
       "      <th>595</th>\n",
       "      <td>596</td>\n",
       "      <td>Antisocial (with Travis Scott)</td>\n",
       "      <td>[pop]</td>\n",
       "    </tr>\n",
       "    <tr>\n",
       "      <th>598</th>\n",
       "      <td>599</td>\n",
       "      <td>Find U Again (feat. Camila Cabello)</td>\n",
       "      <td>[dance, pop]</td>\n",
       "    </tr>\n",
       "    <tr>\n",
       "      <th>599</th>\n",
       "      <td>600</td>\n",
       "      <td>Cross Me (feat. Chance the Rapper &amp; PnB Rock)</td>\n",
       "      <td>[pop]</td>\n",
       "    </tr>\n",
       "    <tr>\n",
       "      <th>600</th>\n",
       "      <td>601</td>\n",
       "      <td>No Brainer (feat. Justin Bieber, Chance the Ra...</td>\n",
       "      <td>[dance, pop]</td>\n",
       "    </tr>\n",
       "    <tr>\n",
       "      <th>601</th>\n",
       "      <td>602</td>\n",
       "      <td>Nothing Breaks Like a Heart (feat. Miley Cyrus)</td>\n",
       "      <td>[dance, pop]</td>\n",
       "    </tr>\n",
       "  </tbody>\n",
       "</table>\n",
       "<p>469 rows × 3 columns</p>\n",
       "</div>"
      ],
      "text/plain": [
       "      id                                              title        top genre\n",
       "2      3                                            TiK ToK     [dance, pop]\n",
       "3      4                                        Bad Romance     [dance, pop]\n",
       "4      5                               Just the Way You Are            [pop]\n",
       "5      6                                               Baby  [canadian, pop]\n",
       "6      7                                           Dynamite     [dance, pop]\n",
       "..   ...                                                ...              ...\n",
       "595  596                     Antisocial (with Travis Scott)            [pop]\n",
       "598  599                Find U Again (feat. Camila Cabello)     [dance, pop]\n",
       "599  600      Cross Me (feat. Chance the Rapper & PnB Rock)            [pop]\n",
       "600  601  No Brainer (feat. Justin Bieber, Chance the Ra...     [dance, pop]\n",
       "601  602    Nothing Breaks Like a Heart (feat. Miley Cyrus)     [dance, pop]\n",
       "\n",
       "[469 rows x 3 columns]"
      ]
     },
     "execution_count": 131,
     "metadata": {},
     "output_type": "execute_result"
    }
   ],
   "source": [
    "recommender_by_genre('pop')"
   ]
  },
  {
   "cell_type": "markdown",
   "metadata": {},
   "source": [
    "### 3. Recomendador basado filtrado colaborativo\n",
    "\n",
    "Vamos a utilizar filtrado colaborativo para generar recomendaciones para los usuarios. Como hemos visto en clase esta técnica se basa en la premisa de que personas similares tienen gustos similares.\n",
    "El primer paso es transformar nuestros datos en una matriz usuario-elemento, también conocida como matriz de \"utilidad\". \n",
    "Como hemos visto en clase, en esta matriz, las filas representan a los usuarios y las columnas representan a las canciones. La mejor parte del filtrado colaborativo es que no requiere ninguna información adicional sobre los usuarios o las canciones para generar recomendaciones."
   ]
  },
  {
   "cell_type": "markdown",
   "metadata": {},
   "source": [
    "La función `create_X()` produce una matriz dispersa X con cuatro diccionarios de mapeo:\n",
    "- **user_mapper**: mapea el ID del usuario al índice del usuario.\n",
    "- **song_mapper**: mapea el ID de la canción al índice de la canción.\n",
    "- **user_inv_mapper**: mapea el índice del usuario al ID del usuario.\n",
    "- **song_inv_mapper**: mapea el índice de la canción al ID de la canción.\n",
    "\n",
    "Necesitamos estos diccionarios porque establecen la correspondencia entre qué fila/columna de la matriz de utilidad se relaciona con qué ID de usuario/canción.\n",
    "\n",
    "Esta matriz tiene muchos valores desconocidos y para almacenar la matriz de utilidad (user-item) utilizaremos un tipo de matriz específico [scipy.sparse.csr_matrix](https://docs.scipy.org/doc/scipy-0.14.0/reference/generated/scipy.sparse.csr_matrix.html) que almacena datos dispersos de forma eficiente."
   ]
  },
  {
   "cell_type": "code",
   "execution_count": 132,
   "metadata": {},
   "outputs": [],
   "source": [
    "from scipy.sparse import csr_matrix\n",
    "\n",
    "def create_X(df):\n",
    "    \"\"\"\n",
    "    Genera una matriz dispersa a partir del marco de datos de calificaciones.\n",
    "    \n",
    "    Argumentos:\n",
    "        df: dataframe de pandas que contiene 3 columnas (userId, songId, rating)\n",
    "    \n",
    "    Devoluciones:\n",
    "        X: matriz dispersa\n",
    "        user_mapper: dict que asigna las identificaciones de usuario a los índices de usuario\n",
    "        user_inv_mapper: dict que asigna índices de usuario a ID de usuario\n",
    "        song_mapper: dict que asigna las identificaciones de canciones a los índices de canciones\n",
    "        song_inv_mapper: dict que asigna índices de canciones a ID de canciones\n",
    "        \n",
    "    \"\"\"\n",
    "    M = df['userId'].nunique()\n",
    "    N = df['songId'].nunique()\n",
    "\n",
    "    user_mapper = dict(zip(np.unique(df[\"userId\"]), list(range(M))))\n",
    "    song_mapper = dict(zip(np.unique(df[\"songId\"]), list(range(N))))\n",
    "    \n",
    "    user_inv_mapper = dict(zip(list(range(M)), np.unique(df[\"userId\"])))\n",
    "    song_inv_mapper = dict(zip(list(range(N)), np.unique(df[\"songId\"])))\n",
    "    \n",
    "    user_index = [user_mapper[i] for i in df['userId']]\n",
    "    item_index = [song_mapper[i] for i in df['songId']]\n",
    "\n",
    "    X = csr_matrix((df[\"rating\"], (user_index,item_index)), shape=(M,N))\n",
    "    \n",
    "    return X, user_mapper, song_mapper, user_inv_mapper, song_inv_mapper"
   ]
  },
  {
   "cell_type": "code",
   "execution_count": 133,
   "metadata": {},
   "outputs": [],
   "source": [
    "# Creamos en X una matriz de utilidad usando nuestros datos de ratings. Además disponemos de estructuras para indexar los datos dispersos.\n",
    "X, user_mapper, song_mapper, user_inv_mapper, song_inv_mapper = create_X(ratings)"
   ]
  },
  {
   "cell_type": "markdown",
   "metadata": {},
   "source": [
    "Para calcular la dispersión (sparsity) de esta matriz se divide el número total de elementos no vacíos entre el número total de elementos.  El número de elementos almacenados (no vacíos) en nuestra matriz es equivalente al número de ratings en nuestro conjunto de datos. \n",
    "`csr_matrix.nnz` cuenta los valores almacenados (no vacíos) en la matriz de utilidad. El resto de celdas están vacías.\n",
    "\n",
    "Este es problema del inicio en frío (**cold start**) que ocurre cuando hay nuevos usuarios y canciones en nuestra matriz que no tienen calificaciones. Es útil verificar qué usuarios y canciones tienen pocas (o ninguna) interacciones. \n",
    "Vamos a ver que en estos datos de songlens no hay ningún usuario ni canción sin interacciones pero sí hay algunas que tienen muy pocas."
   ]
  },
  {
   "cell_type": "code",
   "execution_count": 134,
   "metadata": {},
   "outputs": [
    {
     "name": "stdout",
     "output_type": "stream",
     "text": [
      "Matrix sparsity: 14.64%\n"
     ]
    }
   ],
   "source": [
    "n_total = X.shape[0]*X.shape[1]\n",
    "n_ratings = X.nnz\n",
    "sparsity = n_ratings/n_total\n",
    "print(f\"Matrix sparsity: {round(sparsity*100,2)}%\")"
   ]
  },
  {
   "cell_type": "code",
   "execution_count": 135,
   "metadata": {},
   "outputs": [
    {
     "name": "stdout",
     "output_type": "stream",
     "text": [
      "El usuario más activo ha valorado 199 canciones.\n",
      "El usuario menos activo ha valorado 1 canciones.\n"
     ]
    }
   ],
   "source": [
    "n_ratings_per_user = X.getnnz(axis=1)\n",
    "\n",
    "print(f\"El usuario más activo ha valorado {n_ratings_per_user.max()} canciones.\")\n",
    "print(f\"El usuario menos activo ha valorado {n_ratings_per_user.min()} canciones.\")"
   ]
  },
  {
   "cell_type": "code",
   "execution_count": 136,
   "metadata": {},
   "outputs": [
    {
     "name": "stdout",
     "output_type": "stream",
     "text": [
      "La canción más valorada tiene 118 ratings.\n",
      "La canción menos valorada tiene 65 ratings.\n"
     ]
    }
   ],
   "source": [
    "n_ratings_per_song = X.getnnz(axis=0)\n",
    "\n",
    "print(f\"La canción más valorada tiene {n_ratings_per_song.max()} ratings.\")\n",
    "print(f\"La canción menos valorada tiene {n_ratings_per_song.min()} ratings.\")"
   ]
  },
  {
   "cell_type": "code",
   "execution_count": 137,
   "metadata": {
    "scrolled": true
   },
   "outputs": [
    {
     "data": {
      "image/png": "[encoded data removed]",
      "text/plain": [
       "<Figure size 1600x400 with 2 Axes>"
      ]
     },
     "metadata": {},
     "output_type": "display_data"
    }
   ],
   "source": [
    "plt.figure(figsize=(16,4))\n",
    "plt.subplot(1,2,1)\n",
    "sns.kdeplot(n_ratings_per_user, fill=True)\n",
    "plt.xlim(0)\n",
    "plt.title(\"Número de ratings por usuario\", fontsize=14)\n",
    "plt.xlabel(\"Número de ratings por usuario\")\n",
    "plt.ylabel(\"Densidad\")\n",
    "plt.subplot(1,2,2)\n",
    "sns.kdeplot(n_ratings_per_song, fill=True)\n",
    "plt.xlim(0)\n",
    "plt.title(\"Numero de Ratings por canción\", fontsize=14)\n",
    "plt.xlabel(\"Número de ratings por canción\")\n",
    "plt.ylabel(\"Densidad\")\n",
    "plt.show()"
   ]
  },
  {
   "cell_type": "markdown",
   "metadata": {},
   "source": [
    "Vamos a normalizar nuestros datos.\n",
    "    - Definimos el sesgo usuario-elemento como: $b_{ui} = \\mu + b_{u} + b_{i}$\n",
    "    - Realizamos la normalización de la media restando $b_{i}$ a los ratings de cada canción."
   ]
  },
  {
   "cell_type": "code",
   "execution_count": 138,
   "metadata": {},
   "outputs": [
    {
     "data": {
      "text/plain": [
       "matrix([[2.06944444, 2.64130435, 2.33333333, 2.52380952, 2.28205128,\n",
       "         2.625     , 2.67073171, 2.40909091, 2.56164384, 2.30588235,\n",
       "         2.3625    , 2.45744681, 2.54081633, 2.56666667, 2.3908046 ,\n",
       "         2.58139535, 2.33707865, 2.44897959, 2.4742268 , 2.35      ,\n",
       "         2.35365854, 2.62068966, 2.39759036, 2.67948718, 2.4375    ,\n",
       "         2.26744186, 2.57777778, 2.42307692, 2.45744681, 2.36363636,\n",
       "         2.43589744, 2.41463415, 2.54166667, 2.32380952, 2.33333333,\n",
       "         2.5625    , 2.32631579, 2.28723404, 2.24489796, 2.11904762,\n",
       "         2.45121951, 2.35164835, 2.59340659, 2.26923077, 2.3253012 ,\n",
       "         2.35869565, 2.77647059, 2.57425743, 2.36697248, 2.36470588,\n",
       "         2.39759036, 2.70454545, 2.76136364, 1.96428571, 2.38947368,\n",
       "         2.33333333, 2.31764706, 2.74444444, 2.33980583, 2.44210526,\n",
       "         2.35106383, 2.97701149, 3.03061224, 2.41333333, 2.52112676,\n",
       "         2.6625    , 2.57446809, 2.76923077, 2.52083333, 2.46153846,\n",
       "         2.57446809, 2.34883721, 2.32291667, 2.46428571, 2.48684211,\n",
       "         2.56818182, 2.56435644, 2.42553191, 2.86516854, 2.47435897,\n",
       "         2.7195122 , 2.07142857, 2.39814815, 2.29577465, 2.62637363,\n",
       "         2.66666667, 2.62886598, 2.76530612, 2.6       , 2.27659574,\n",
       "         2.7       , 2.38554217, 2.8019802 , 2.68367347, 2.28915663,\n",
       "         2.45054945, 2.43809524, 2.26086957, 2.18947368, 2.54545455,\n",
       "         2.45679012, 2.43333333, 2.69736842, 2.93670886, 2.64      ,\n",
       "         2.71084337, 2.75268817, 2.15533981, 2.47674419, 2.63636364,\n",
       "         2.57575758, 2.57894737, 2.38636364, 2.31067961, 2.7311828 ,\n",
       "         2.62105263, 2.51136364, 2.55555556, 2.35051546, 2.2       ,\n",
       "         1.94736842, 2.51612903, 2.79775281, 2.47      , 2.48571429,\n",
       "         2.63529412, 2.35353535, 2.26041667, 2.58095238, 2.69072165,\n",
       "         2.37804878, 2.29787234, 2.33333333, 2.25842697, 2.81333333,\n",
       "         2.65116279, 2.46153846, 2.5974026 , 2.78873239, 2.63953488,\n",
       "         2.59340659, 2.51851852, 2.32142857, 2.78761062, 2.55555556,\n",
       "         3.0617284 , 2.67346939, 2.48275862, 2.08888889, 2.2371134 ,\n",
       "         2.64285714, 2.47311828, 2.71428571, 2.45833333, 2.28915663,\n",
       "         2.56626506, 2.5       , 2.48051948, 2.62222222, 2.66666667,\n",
       "         2.5212766 , 2.50961538, 2.48314607, 2.45      , 2.36781609,\n",
       "         2.45238095, 2.6626506 , 2.29411765, 2.30588235, 2.69135802,\n",
       "         2.45348837, 2.52112676, 2.62886598, 2.68817204, 2.48275862,\n",
       "         2.57471264, 2.55681818, 2.19512195, 2.69767442, 2.53608247,\n",
       "         2.62264151, 2.29230769, 2.42222222, 2.65934066, 2.37078652,\n",
       "         2.34177215, 2.39506173, 2.31111111, 2.16853933, 2.61627907,\n",
       "         2.42307692, 2.66019417, 2.67105263, 2.51764706, 2.74226804,\n",
       "         2.33333333, 2.40425532, 2.57608696, 2.63157895, 2.61643836,\n",
       "         2.29213483, 2.3592233 , 2.34065934, 2.07058824, 2.54      ,\n",
       "         2.17777778, 2.25581395, 2.69879518, 2.58426966, 2.27710843,\n",
       "         2.68478261, 2.53333333, 2.46987952, 2.67045455, 2.58888889,\n",
       "         2.38461538, 2.46590909, 2.43809524, 2.30120482, 2.5       ,\n",
       "         1.94871795, 2.88095238, 2.64893617, 2.37623762, 2.60869565,\n",
       "         2.22619048, 2.2875    , 2.21      , 2.31764706, 2.59375   ,\n",
       "         2.4625    , 2.69767442, 2.22330097, 2.78313253, 2.43617021,\n",
       "         2.47126437, 2.64835165, 2.47474747, 2.43529412, 2.29761905,\n",
       "         2.52083333, 2.74117647, 2.30392157, 2.5308642 , 2.76404494,\n",
       "         2.62365591, 2.20731707, 2.34939759, 2.32291667, 2.6875    ,\n",
       "         2.38043478, 2.58333333, 2.63829787, 2.56179775, 2.53571429,\n",
       "         2.72727273, 2.47297297, 2.70114943, 2.35714286, 2.36619718,\n",
       "         2.1744186 , 2.49382716, 2.54761905, 2.49494949, 2.59036145,\n",
       "         2.3       , 2.44680851, 2.39175258, 2.31111111, 2.49438202,\n",
       "         2.56842105, 2.76086957, 2.28712871, 2.44680851, 2.25581395,\n",
       "         2.5060241 , 2.53763441, 2.56097561, 2.51724138, 2.83333333,\n",
       "         2.52380952, 2.56578947, 2.68085106, 2.74390244, 2.71578947,\n",
       "         2.55434783, 2.30379747, 2.36538462, 2.63529412, 2.15584416,\n",
       "         2.40229885, 2.5505618 , 2.36904762, 2.43209877, 2.81481481,\n",
       "         2.7032967 , 2.64130435, 2.6       , 2.59259259, 2.4       ,\n",
       "         2.68965517, 2.83018868, 2.58888889, 2.40860215, 2.4673913 ,\n",
       "         2.35416667, 2.78021978, 2.48051948, 2.45360825, 2.52747253,\n",
       "         2.5       , 2.35526316, 2.31764706, 2.66666667, 2.68421053,\n",
       "         2.78021978, 2.30769231, 2.58415842, 2.49473684, 2.68888889,\n",
       "         2.12820513, 2.71111111, 2.4       , 2.47674419, 2.55294118,\n",
       "         2.25842697, 2.41414141, 2.61797753, 2.4691358 , 2.43617021,\n",
       "         2.6097561 , 2.61702128, 2.52525253, 2.15853659, 2.70454545,\n",
       "         2.57647059, 2.48421053, 2.92682927, 2.33684211, 1.98666667,\n",
       "         2.39175258, 2.01298701, 2.34883721, 2.64285714, 2.38709677,\n",
       "         2.3255814 , 2.63333333, 2.8125    , 2.67741935, 2.63529412,\n",
       "         2.52631579, 2.49411765, 2.33684211, 2.44318182, 2.61538462,\n",
       "         2.41176471, 2.85714286, 2.68539326, 2.3902439 , 2.26582278,\n",
       "         2.42168675, 2.27659574, 2.43877551, 2.42105263, 2.51648352,\n",
       "         2.44230769, 2.3372093 , 2.39      , 2.29473684, 2.64423077,\n",
       "         2.2278481 , 2.91549296, 2.43956044, 2.29333333, 2.53932584,\n",
       "         2.28735632, 2.51136364, 2.46835443, 2.21      , 2.29896907,\n",
       "         2.83950617, 2.76344086, 2.07317073, 2.71276596, 2.57954545,\n",
       "         2.25      , 2.52272727, 2.3452381 , 2.48780488, 2.90804598,\n",
       "         2.47619048, 2.56626506, 2.34042553, 2.43529412, 2.6728972 ,\n",
       "         2.27906977, 2.4137931 , 2.86206897, 2.21153846, 2.42666667,\n",
       "         2.38709677, 2.53488372, 2.62352941, 2.83333333, 2.55555556,\n",
       "         2.36956522, 2.66666667, 2.53658537, 2.55294118, 2.5125    ,\n",
       "         2.64634146, 2.38461538, 2.53191489, 2.40449438, 2.5212766 ,\n",
       "         2.63736264, 2.23404255, 2.5625    , 2.22222222, 2.66292135,\n",
       "         2.54736842, 2.44086022, 2.86597938, 2.31355932, 2.62637363,\n",
       "         2.27777778, 2.49411765, 2.28205128, 2.59340659, 2.73255814,\n",
       "         2.63829787, 2.45263158, 2.48529412, 2.54455446, 2.61052632,\n",
       "         2.54117647, 2.54081633, 2.48888889, 2.29292929, 2.54545455,\n",
       "         2.49367089, 2.7125    , 2.54464286, 2.62745098, 2.82758621,\n",
       "         2.44565217, 2.61      , 2.22580645, 2.65555556, 2.11111111,\n",
       "         2.57142857, 2.38947368, 2.58139535, 2.15053763, 2.80208333,\n",
       "         2.34313725, 2.2       , 2.36734694, 2.40425532, 2.47191011,\n",
       "         2.45977011, 2.43157895, 2.47524752, 2.62244898, 2.72093023,\n",
       "         2.73333333, 2.69047619, 2.62365591, 2.47674419, 2.63235294,\n",
       "         2.69117647, 2.36263736, 2.79069767, 2.51      , 2.43678161,\n",
       "         2.82432432, 2.33333333, 2.30107527, 2.65384615, 2.42307692,\n",
       "         2.33695652, 2.37634409, 2.58823529, 2.5483871 , 2.55421687,\n",
       "         2.63043478, 2.41052632, 2.32608696, 2.8372093 , 2.4040404 ,\n",
       "         2.29268293, 2.28915663, 2.30208333, 2.28235294, 2.55670103,\n",
       "         2.36708861, 2.56637168, 2.52112676, 2.5959596 , 2.55670103,\n",
       "         2.4556962 , 2.66233766, 2.61176471, 2.76744186, 2.28421053,\n",
       "         2.35802469, 2.3877551 , 2.40860215, 2.57303371, 2.59574468,\n",
       "         2.48387097, 2.67032967, 2.55844156, 2.55172414, 2.47368421,\n",
       "         2.79761905, 2.44705882, 2.46575342, 2.65263158, 2.68965517,\n",
       "         2.5952381 , 2.87837838, 2.46464646, 2.25581395, 2.42696629,\n",
       "         2.56626506, 2.68539326, 2.42553191, 2.56989247, 2.40243902,\n",
       "         2.59036145, 2.30864198, 2.26041667, 2.40659341, 2.4673913 ,\n",
       "         2.77777778, 2.59090909, 2.79518072, 2.52631579, 2.26582278,\n",
       "         2.33333333, 2.31521739, 2.53846154, 2.53333333, 2.5952381 ,\n",
       "         2.07058824, 2.57894737, 2.42857143, 2.34090909, 2.51041667,\n",
       "         2.49367089, 2.42307692, 2.62244898, 2.51685393, 2.58571429,\n",
       "         2.65      , 2.25925926, 2.41463415, 2.625     , 2.56470588,\n",
       "         2.82352941, 2.54117647, 2.34408602, 2.59340659, 2.22891566,\n",
       "         2.35616438, 2.48863636, 2.37777778, 2.29487179, 2.31460674,\n",
       "         2.48314607, 2.30188679, 2.39534884, 2.43564356, 2.64367816,\n",
       "         2.4       , 2.75581395, 2.5       , 2.4137931 , 2.51685393,\n",
       "         2.58241758, 2.50632911, 2.98888889, 2.        , 2.1125    ,\n",
       "         2.84615385, 2.17777778, 2.50549451, 2.55421687, 2.04444444,\n",
       "         2.46153846, 2.71428571, 2.25806452, 2.50485437, 2.55434783,\n",
       "         2.25925926, 2.48421053, 2.55294118, 2.48314607, 2.53846154,\n",
       "         2.25581395, 2.42857143, 2.27956989, 2.55172414]])"
      ]
     },
     "execution_count": 138,
     "metadata": {},
     "output_type": "execute_result"
    }
   ],
   "source": [
    "sum_ratings_per_song = X.sum(axis=0)\n",
    "mean_rating_per_song = sum_ratings_per_song/n_ratings_per_song\n",
    "mean_rating_per_song"
   ]
  },
  {
   "cell_type": "markdown",
   "metadata": {},
   "source": [
    "Ahora que tenemos la calificación promedio para cada canción, vamos a restar esto de nuestra matriz de utilidad. Para hacerlo, necesitamos expandir nuestra matriz 1D `mean_rating_per_song` en una matriz con la misma forma que nuestra matriz de utilidad `(n_users, n_songs)`. \n",
    "\n",
    "El método `tile` de Numpy es útil para esta tarea."
   ]
  },
  {
   "cell_type": "code",
   "execution_count": 139,
   "metadata": {},
   "outputs": [],
   "source": [
    "X_mean_song = np.tile(mean_rating_per_song, (X.shape[0],1))"
   ]
  },
  {
   "cell_type": "code",
   "execution_count": 140,
   "metadata": {},
   "outputs": [
    {
     "data": {
      "text/plain": [
       "(606, 604)"
      ]
     },
     "execution_count": 140,
     "metadata": {},
     "output_type": "execute_result"
    }
   ],
   "source": [
    "X_mean_song.shape"
   ]
  },
  {
   "cell_type": "markdown",
   "metadata": {},
   "source": [
    "`X_mean_song` es una matriz de forma (n_users, n_songs) en la que cada columna está poblada con la calificación promedio de una canción específica.\n",
    "\n",
    "Podemos normalizar fácilmente nuestra matriz X restando `X_mean_song` de la matriz original `X`."
   ]
  },
  {
   "cell_type": "code",
   "execution_count": 141,
   "metadata": {},
   "outputs": [],
   "source": [
    "X_norm = X - csr_matrix(X_mean_song)"
   ]
  },
  {
   "cell_type": "markdown",
   "metadata": {},
   "source": [
    "Como era de esperar, los valores de `X_norm` son diferentes de los de `X`. Las celdas que estaban vacías en la matriz original ahora están reemplazadas por valores negativos que representan la calificación promedio de una canción específica."
   ]
  },
  {
   "cell_type": "code",
   "execution_count": 142,
   "metadata": {},
   "outputs": [
    {
     "name": "stdout",
     "output_type": "stream",
     "text": [
      "Original X: [[0 0 0 0 0 0 0 5 0 0 0 0 0 0 0 0 0 0 0 0 0 0 0 0 0 0 0 0 0 4 0 0 0 0 0 0\n",
      "  0 0 0 0 0 0 3 0 0 0 0 0 3 0 0 0 0 0 0 0 0 0 0 0 0 0 0 0 0 0 0 0 0 0 0 0\n",
      "  0 0 0 0 0 0 0 0 0 0 0 0 0 0 0 0 0 0 0 0 0 0 0 0 0 0 0 0 0 0 0 0 0 0 0 0\n",
      "  0 0 0 0 0 0 0 0 1 0 0 0 0 0 0 0 0 0 0 0 0 0 0 0 0 0 0 0 0 0 0 0 0 0 0 0\n",
      "  0 0 0 0 0 0 0 0 0 0 0 0 0 0 0 0 0 0 0 0 0 0 0 0 0 0 0 0 0 0 0 0 0 0 0 0\n",
      "  0 0 0 0 0 0 0 0 0 0 0 0 0 0 0 0 0 0 0 0 0 0 0 0 0 0 0 0 0 0 0 1 0 0 0 0\n",
      "  0 0 0 0 0 0 0 0 0 0 0 0 0 0 0 4 0 0 0 0 0 0 0 0 0 0 0 0 0 0 0 0 0 0 5 0\n",
      "  0 0 0 0 4 0 0 0 0 0 0 0 0 0 0 0 0 0 0 0 0 0 0 0 0 0 0 0 0 0 0 0 0 0 0 0\n",
      "  0 0 0 0 0 0 0 0 0 0 0 0 0 0 0 0 0 0 0 0 0 0 0 0 0 0 0 0 0 0 0 0 0 0 0 0\n",
      "  0 0 0 0 0 2 0 0 0 0 0 5 0 0 0 0 0 0 0 0 0 0 0 0 0 0 0 0 3 0 0 0 0 0 0 0\n",
      "  0 0 0 0 0 0 0 2 0 0 0 0 0 0 0 3 0 0 0 0 0 0 0 0 0 0 0 0 0 0 0 0 0 0 0 0\n",
      "  0 0 0 0 0 0 0 0 0 0 0 0 0 0 0 0 0 0 0 0 0 0 0 0 0 0 0 0 0 0 0 0 0 0 0 0\n",
      "  0 0 5 0 0 0 5 0 0 0 0 0 0 0 0 0 0 0 0 0 0 0 0 0 0 0 0 0 0 0 0 0 0 0 0 0\n",
      "  0 0 0 0 0 0 0 0 0 0 0 0 0 0 0 0 0 0 0 0 0 0 0 0 0 0 0 0 0 0 0 0 0 0 0 0\n",
      "  0 0 0 0 4 0 0 0 0 2 0 0 0 0 0 0 0 0 0 0 0 0 0 0 4 0 0 0 0 0 0 0 0 4 0 0\n",
      "  0 0 2 0 5 0 0 0 0 0 0 0 0 0 0 0 0 0 0 0 0 0 0 0 0 0 0 0 0 0 0 0 0 0 0 0\n",
      "  0 0 0 0 0 0 0 0 0 0 0 0 0 0 0 0 0 0 0 0 0 0 0 0 0 0 0 0]]\n",
      "Normalized X: [[-2.06944444 -2.64130435 -2.33333333 -2.52380952 -2.28205128 -2.625\n",
      "  -2.67073171  2.59090909 -2.56164384 -2.30588235 -2.3625     -2.45744681\n",
      "  -2.54081633 -2.56666667 -2.3908046  -2.58139535 -2.33707865 -2.44897959\n",
      "  -2.4742268  -2.35       -2.35365854 -2.62068966 -2.39759036 -2.67948718\n",
      "  -2.4375     -2.26744186 -2.57777778 -2.42307692 -2.45744681  1.63636364\n",
      "  -2.43589744 -2.41463415 -2.54166667 -2.32380952 -2.33333333 -2.5625\n",
      "  -2.32631579 -2.28723404 -2.24489796 -2.11904762 -2.45121951 -2.35164835\n",
      "   0.40659341 -2.26923077 -2.3253012  -2.35869565 -2.77647059 -2.57425743\n",
      "   0.63302752 -2.36470588 -2.39759036 -2.70454545 -2.76136364 -1.96428571\n",
      "  -2.38947368 -2.33333333 -2.31764706 -2.74444444 -2.33980583 -2.44210526\n",
      "  -2.35106383 -2.97701149 -3.03061224 -2.41333333 -2.52112676 -2.6625\n",
      "  -2.57446809 -2.76923077 -2.52083333 -2.46153846 -2.57446809 -2.34883721\n",
      "  -2.32291667 -2.46428571 -2.48684211 -2.56818182 -2.56435644 -2.42553191\n",
      "  -2.86516854 -2.47435897 -2.7195122  -2.07142857 -2.39814815 -2.29577465\n",
      "  -2.62637363 -2.66666667 -2.62886598 -2.76530612 -2.6        -2.27659574\n",
      "  -2.7        -2.38554217 -2.8019802  -2.68367347 -2.28915663 -2.45054945\n",
      "  -2.43809524 -2.26086957 -2.18947368 -2.54545455 -2.45679012 -2.43333333\n",
      "  -2.69736842 -2.93670886 -2.64       -2.71084337 -2.75268817 -2.15533981\n",
      "  -2.47674419 -2.63636364 -2.57575758 -2.57894737 -2.38636364 -2.31067961\n",
      "  -2.7311828  -2.62105263 -1.51136364 -2.55555556 -2.35051546 -2.2\n",
      "  -1.94736842 -2.51612903 -2.79775281 -2.47       -2.48571429 -2.63529412\n",
      "  -2.35353535 -2.26041667 -2.58095238 -2.69072165 -2.37804878 -2.29787234\n",
      "  -2.33333333 -2.25842697 -2.81333333 -2.65116279 -2.46153846 -2.5974026\n",
      "  -2.78873239 -2.63953488 -2.59340659 -2.51851852 -2.32142857 -2.78761062\n",
      "  -2.55555556 -3.0617284  -2.67346939 -2.48275862 -2.08888889 -2.2371134\n",
      "  -2.64285714 -2.47311828 -2.71428571 -2.45833333 -2.28915663 -2.56626506\n",
      "  -2.5        -2.48051948 -2.62222222 -2.66666667 -2.5212766  -2.50961538\n",
      "  -2.48314607 -2.45       -2.36781609 -2.45238095 -2.6626506  -2.29411765\n",
      "  -2.30588235 -2.69135802 -2.45348837 -2.52112676 -2.62886598 -2.68817204\n",
      "  -2.48275862 -2.57471264 -2.55681818 -2.19512195 -2.69767442 -2.53608247\n",
      "  -2.62264151 -2.29230769 -2.42222222 -2.65934066 -2.37078652 -2.34177215\n",
      "  -2.39506173 -2.31111111 -2.16853933 -2.61627907 -2.42307692 -2.66019417\n",
      "  -2.67105263 -2.51764706 -2.74226804 -2.33333333 -2.40425532 -2.57608696\n",
      "  -2.63157895 -2.61643836 -2.29213483 -2.3592233  -2.34065934 -2.07058824\n",
      "  -2.54       -2.17777778 -2.25581395 -2.69879518 -2.58426966 -2.27710843\n",
      "  -2.68478261 -1.53333333 -2.46987952 -2.67045455 -2.58888889 -2.38461538\n",
      "  -2.46590909 -2.43809524 -2.30120482 -2.5        -1.94871795 -2.88095238\n",
      "  -2.64893617 -2.37623762 -2.60869565 -2.22619048 -2.2875     -2.21\n",
      "  -2.31764706 -2.59375    -2.4625      1.30232558 -2.22330097 -2.78313253\n",
      "  -2.43617021 -2.47126437 -2.64835165 -2.47474747 -2.43529412 -2.29761905\n",
      "  -2.52083333 -2.74117647 -2.30392157 -2.5308642  -2.76404494 -2.62365591\n",
      "  -2.20731707 -2.34939759 -2.32291667 -2.6875      2.61956522 -2.58333333\n",
      "  -2.63829787 -2.56179775 -2.53571429 -2.72727273  1.52702703 -2.70114943\n",
      "  -2.35714286 -2.36619718 -2.1744186  -2.49382716 -2.54761905 -2.49494949\n",
      "  -2.59036145 -2.3        -2.44680851 -2.39175258 -2.31111111 -2.49438202\n",
      "  -2.56842105 -2.76086957 -2.28712871 -2.44680851 -2.25581395 -2.5060241\n",
      "  -2.53763441 -2.56097561 -2.51724138 -2.83333333 -2.52380952 -2.56578947\n",
      "  -2.68085106 -2.74390244 -2.71578947 -2.55434783 -2.30379747 -2.36538462\n",
      "  -2.63529412 -2.15584416 -2.40229885 -2.5505618  -2.36904762 -2.43209877\n",
      "  -2.81481481 -2.7032967  -2.64130435 -2.6        -2.59259259 -2.4\n",
      "  -2.68965517 -2.83018868 -2.58888889 -2.40860215 -2.4673913  -2.35416667\n",
      "  -2.78021978 -2.48051948 -2.45360825 -2.52747253 -2.5        -2.35526316\n",
      "  -2.31764706 -2.66666667 -2.68421053 -2.78021978 -2.30769231 -2.58415842\n",
      "  -2.49473684 -2.68888889 -2.12820513 -2.71111111 -2.4        -2.47674419\n",
      "  -2.55294118 -2.25842697 -2.41414141 -2.61797753 -2.4691358  -0.43617021\n",
      "  -2.6097561  -2.61702128 -2.52525253 -2.15853659 -2.70454545  2.42352941\n",
      "  -2.48421053 -2.92682927 -2.33684211 -1.98666667 -2.39175258 -2.01298701\n",
      "  -2.34883721 -2.64285714 -2.38709677 -2.3255814  -2.63333333 -2.8125\n",
      "  -2.67741935 -2.63529412 -2.52631579 -2.49411765  0.66315789 -2.44318182\n",
      "  -2.61538462 -2.41176471 -2.85714286 -2.68539326 -2.3902439  -2.26582278\n",
      "  -2.42168675 -2.27659574 -2.43877551 -2.42105263 -2.51648352 -2.44230769\n",
      "  -2.3372093  -0.39       -2.29473684 -2.64423077 -2.2278481  -2.91549296\n",
      "  -2.43956044 -2.29333333 -2.53932584  0.71264368 -2.51136364 -2.46835443\n",
      "  -2.21       -2.29896907 -2.83950617 -2.76344086 -2.07317073 -2.71276596\n",
      "  -2.57954545 -2.25       -2.52272727 -2.3452381  -2.48780488 -2.90804598\n",
      "  -2.47619048 -2.56626506 -2.34042553 -2.43529412 -2.6728972  -2.27906977\n",
      "  -2.4137931  -2.86206897 -2.21153846 -2.42666667 -2.38709677 -2.53488372\n",
      "  -2.62352941 -2.83333333 -2.55555556 -2.36956522 -2.66666667 -2.53658537\n",
      "  -2.55294118 -2.5125     -2.64634146 -2.38461538 -2.53191489 -2.40449438\n",
      "  -2.5212766  -2.63736264 -2.23404255 -2.5625     -2.22222222 -2.66292135\n",
      "  -2.54736842 -2.44086022 -2.86597938 -2.31355932 -2.62637363 -2.27777778\n",
      "  -2.49411765 -2.28205128 -2.59340659 -2.73255814 -2.63829787 -2.45263158\n",
      "  -2.48529412 -2.54455446  2.38947368 -2.54117647 -2.54081633 -2.48888889\n",
      "   2.70707071 -2.54545455 -2.49367089 -2.7125     -2.54464286 -2.62745098\n",
      "  -2.82758621 -2.44565217 -2.61       -2.22580645 -2.65555556 -2.11111111\n",
      "  -2.57142857 -2.38947368 -2.58139535 -2.15053763 -2.80208333 -2.34313725\n",
      "  -2.2        -2.36734694 -2.40425532 -2.47191011 -2.45977011 -2.43157895\n",
      "  -2.47524752 -2.62244898 -2.72093023 -2.73333333 -2.69047619 -2.62365591\n",
      "  -2.47674419 -2.63235294 -2.69117647 -2.36263736 -2.79069767 -2.51\n",
      "  -2.43678161 -2.82432432 -2.33333333 -2.30107527 -2.65384615 -2.42307692\n",
      "  -2.33695652 -2.37634409 -2.58823529 -2.5483871  -2.55421687 -2.63043478\n",
      "  -2.41052632 -2.32608696 -2.8372093  -2.4040404  -2.29268293 -2.28915663\n",
      "  -2.30208333 -2.28235294 -2.55670103 -2.36708861 -2.56637168 -2.52112676\n",
      "  -2.5959596  -2.55670103 -2.4556962  -2.66233766 -2.61176471 -2.76744186\n",
      "  -2.28421053 -2.35802469 -2.3877551  -2.40860215  1.42696629 -2.59574468\n",
      "  -2.48387097 -2.67032967 -2.55844156 -0.55172414 -2.47368421 -2.79761905\n",
      "  -2.44705882 -2.46575342 -2.65263158 -2.68965517 -2.5952381  -2.87837838\n",
      "  -2.46464646 -2.25581395 -2.42696629 -2.56626506 -2.68539326 -2.42553191\n",
      "   1.43010753 -2.40243902 -2.59036145 -2.30864198 -2.26041667 -2.40659341\n",
      "  -2.4673913  -2.77777778 -2.59090909  1.20481928 -2.52631579 -2.26582278\n",
      "  -2.33333333 -2.31521739 -0.53846154 -2.53333333  2.4047619  -2.07058824\n",
      "  -2.57894737 -2.42857143 -2.34090909 -2.51041667 -2.49367089 -2.42307692\n",
      "  -2.62244898 -2.51685393 -2.58571429 -2.65       -2.25925926 -2.41463415\n",
      "  -2.625      -2.56470588 -2.82352941 -2.54117647 -2.34408602 -2.59340659\n",
      "  -2.22891566 -2.35616438 -2.48863636 -2.37777778 -2.29487179 -2.31460674\n",
      "  -2.48314607 -2.30188679 -2.39534884 -2.43564356 -2.64367816 -2.4\n",
      "  -2.75581395 -2.5        -2.4137931  -2.51685393 -2.58241758 -2.50632911\n",
      "  -2.98888889 -2.         -2.1125     -2.84615385 -2.17777778 -2.50549451\n",
      "  -2.55421687 -2.04444444 -2.46153846 -2.71428571 -2.25806452 -2.50485437\n",
      "  -2.55434783 -2.25925926 -2.48421053 -2.55294118 -2.48314607 -2.53846154\n",
      "  -2.25581395 -2.42857143 -2.27956989 -2.55172414]]\n"
     ]
    }
   ],
   "source": [
    "print(\"Original X:\", X[0].todense())\n",
    "print(\"Normalized X:\", X_norm[0].todense())"
   ]
  },
  {
   "cell_type": "markdown",
   "metadata": {},
   "source": [
    "#### 3.1.  Recomendaciones con filtrado colaborativo Item-item "
   ]
  },
  {
   "cell_type": "markdown",
   "metadata": {},
   "source": [
    "Vamos a encontrar las $k$ canciones que tienen los vectores de participación de usuarios más similares a la canción $i$.\n",
    "Utilizaremos el método k-NearestNeighbors (K-NN) de la librería sklearn de python. La librería tiene implementadas algunas medidas de similitud (como la del coseno vista en clase) para comparar los vectores item-item o user-user. \n",
    "Puedes ver la documentación en https://scikit-learn.org/stable/modules/generated/sklearn.neighbors.NearestNeighbors.html#sklearn.neighbors.NearestNeighbors\n"
   ]
  },
  {
   "cell_type": "code",
   "execution_count": 143,
   "metadata": {},
   "outputs": [],
   "source": [
    "from sklearn.neighbors import NearestNeighbors\n",
    "\n",
    "def find_similar_songs(song_id, X, song_mapper, song_inv_mapper, k, metric='cosine'):\n",
    "    \"\"\"\n",
    "    Encuentra los k vecinos más cercanos para una canción dada.\n",
    "    \n",
    "    Argumentos:\n",
    "        song_id: id de la canción de interés\n",
    "        X: matriz de utilidad user-item\n",
    "        k: número de canciones similares que queremos recuperar\n",
    "        métrica: métrica de distancia para los cálculos de kNN\n",
    "    \n",
    "    Salida: devuelve una lista de k ID de canciones similares\n",
    "    \"\"\"\n",
    "    X = X.T\n",
    "    neighbour_ids = []\n",
    "    \n",
    "    song_ind = song_mapper[song_id]\n",
    "    song_vec = X[song_ind]\n",
    "    if isinstance(song_vec, (np.ndarray)):\n",
    "        song_vec = song_vec.reshape(1,-1)\n",
    "    # usamos k+1 porque la salida kNN incluye la canción de ID = songId\n",
    "    kNN = NearestNeighbors(n_neighbors=k+1, algorithm=\"brute\", metric=metric)\n",
    "    kNN.fit(X)\n",
    "    neighbour = kNN.kneighbors(song_vec, return_distance=False)\n",
    "    for i in range(0,k):\n",
    "        n = neighbour.item(i)\n",
    "        neighbour_ids.append(song_inv_mapper[n])\n",
    "    neighbour_ids.pop(0)\n",
    "    return neighbour_ids"
   ]
  },
  {
   "cell_type": "markdown",
   "metadata": {},
   "source": [
    "`find_similar_songs()` calcula para un cierto `songId` y una matriz `X`, una lista de $k$ canciones que son similares a la canción `songId` según los vectores de ratings de las canciones.\n",
    "`find_similar_songs()` devuelve una lista de los `songId` que son más similares a la canción dada. Vamos a convertirlos a títulos para entender mejor los resultados creando un diccionario con `songId` y `title`."
   ]
  },
  {
   "cell_type": "code",
   "execution_count": 144,
   "metadata": {},
   "outputs": [
    {
     "data": {
      "text/plain": [
       "[512, 356, 169, 64, 185, 585, 343, 104, 553]"
      ]
     },
     "execution_count": 144,
     "metadata": {},
     "output_type": "execute_result"
    }
   ],
   "source": [
    "similar_songs = find_similar_songs(1, X_norm, song_mapper, song_inv_mapper, k=10)\n",
    "similar_songs"
   ]
  },
  {
   "cell_type": "markdown",
   "metadata": {},
   "source": [
    "Estas son las K=10 canciones más similares. Como queremos saber los títulos de las canciones vamos a crear un mapeado entre songId y los títulos para que los resultados sean más fáciles de interpretar. "
   ]
  },
  {
   "cell_type": "code",
   "execution_count": 145,
   "metadata": {},
   "outputs": [
    {
     "name": "stdout",
     "output_type": "stream",
     "text": [
      " Porque has visto ... Hey, Soul Sister ... te recomendamos:\n",
      "New Rules\n",
      "Sparks\n",
      "Let Me Love You (Until You Learn To Love Yourself)\n",
      "Monster\n",
      "Next To Me\n",
      "Beautiful People (feat. Khalid)\n",
      "Perfect\n",
      "Muny - Album Version (Edited)\n",
      "For You (With Rita Ora)\n"
     ]
    }
   ],
   "source": [
    "song_titles = dict(zip(songs['id'], songs['title']))\n",
    "\n",
    "song_id = 1\n",
    "\n",
    "similar_songs = find_similar_songs(song_id, X_norm, song_mapper, song_inv_mapper, metric='cosine', k=10)\n",
    "song_title = song_titles[song_id]\n",
    "\n",
    "print(f\" Porque has visto ... {song_title} ... te recomendamos:\")\n",
    "for i in similar_songs:\n",
    "    print(song_titles[i])"
   ]
  },
  {
   "cell_type": "markdown",
   "metadata": {},
   "source": [
    "Los resultados anteriores muestran las 10 canciones más similares a Toy Story. La mayoría de las canciones de esta lista son canciones _familiares_ de la década de 1990, lo que parece bastante razonable. Hay que tener en cuenta que estas recomendaciones se basan únicamente en las calificaciones de los usuarios. En este enfoque colaborativo **no se utilizan características específicas de las canciones** como sus géneros. Si queremos tener en cuenta las características deberíamos usar un enfoque basado en contenidos (_content-based_) como hemos hecho antes. Tambien puedes combinar las dos aproximaciones. "
   ]
  },
  {
   "cell_type": "markdown",
   "metadata": {},
   "source": [
    "Se pueden hacer distintas pruebas con otras métricas kNN utilizando distancia \"manhattan\" o \"euclidea\" en vez de la similitud del \"coseno\". Observa que los resultados son diferentes. Habría que evaluar cual de ellas proporciona unos resultados mejores.\n"
   ]
  },
  {
   "cell_type": "code",
   "execution_count": 146,
   "metadata": {},
   "outputs": [
    {
     "name": "stdout",
     "output_type": "stream",
     "text": [
      "Porque has visto Hey, Soul Sister te recomendamos:\n",
      "New Rules\n",
      "Next To Me\n",
      "Monster\n",
      "Blame\n",
      "Here\n",
      "Supplies\n",
      "Walks Like Rihanna\n",
      "For You (With Rita Ora)\n",
      "7 Years\n"
     ]
    }
   ],
   "source": [
    "song_id = 1\n",
    "\n",
    "similar_songs = find_similar_songs(song_id, X_norm, song_mapper, song_inv_mapper, metric='euclidean', k=10)\n",
    "song_title = song_titles[song_id]\n",
    "\n",
    "print(f\"Porque has visto {song_title} te recomendamos:\")\n",
    "for i in similar_songs:\n",
    "    print(song_titles[i])"
   ]
  },
  {
   "cell_type": "markdown",
   "metadata": {},
   "source": [
    "### 4. Recomendador basado en contenidos usando similitud del coseno"
   ]
  },
  {
   "cell_type": "markdown",
   "metadata": {},
   "source": [
    "El filtrado colaborativo se basa únicamente en las interacciones entre el usuario y las canciones. El problema con este enfoque es que los usuarios nuevos o las canciones que no han tenido interaciones (valoraciones) o han tenido muy pcoas quedan excluidos del sistema de recomendación (no tenemos datos sobre los usuarios, ni sobre sus gustos). Esto se llama problema de arranque en frío o _cold-start_. El filtrado basado en contenido (content-based) es una forma de manejar este problema generando recomendaciones basadas en las características del usuario y del elemento."
   ]
  },
  {
   "cell_type": "markdown",
   "metadata": {},
   "source": [
    "Como una canción puede tener varios géneros vamos a convertir la columna de los géneros de las canciones en características binarias. Lo que queremos es que cada género tenga su propia columna binaria que se rellena con 0 o 1 en la fila de cada canción según tenga o no un géneros. Esta representación con un vector binario de generos permite aplicar la similitud del coseno para comparar dos canciones según los géneros que comparten."
   ]
  },
  {
   "cell_type": "code",
   "execution_count": 147,
   "metadata": {},
   "outputs": [
    {
     "name": "stdout",
     "output_type": "stream",
     "text": [
      "Hay 603 canciones en el dataset.\n"
     ]
    }
   ],
   "source": [
    "n_songs = songs['id'].nunique()\n",
    "print(f\"Hay {n_songs} canciones en el dataset.\")"
   ]
  },
  {
   "cell_type": "code",
   "execution_count": 148,
   "metadata": {},
   "outputs": [],
   "source": [
    "genres = set(g for G in songs['top genre'] for g in G)\n",
    "\n",
    "for g in genres:\n",
    "    songs[g] = songs[\"top genre\"].transform(lambda x: int(g in x))\n",
    "    \n",
    "song_genres = songs.drop(columns=[\"id\",\"title\",\"artist\",\"top genre\",\"year\",\"bpm\",\"nrgy\",\"dnce\",\"dB\",\"live\",\"val\",\"dur\",\"acous\",\"spch\",\"pop\"])"
   ]
  },
  {
   "cell_type": "code",
   "execution_count": 149,
   "metadata": {},
   "outputs": [
    {
     "data": {
      "text/html": [
       "<div>\n",
       "<style scoped>\n",
       "    .dataframe tbody tr th:only-of-type {\n",
       "        vertical-align: middle;\n",
       "    }\n",
       "\n",
       "    .dataframe tbody tr th {\n",
       "        vertical-align: top;\n",
       "    }\n",
       "\n",
       "    .dataframe thead th {\n",
       "        text-align: right;\n",
       "    }\n",
       "</style>\n",
       "<table border=\"1\" class=\"dataframe\">\n",
       "  <thead>\n",
       "    <tr style=\"text-align: right;\">\n",
       "      <th></th>\n",
       "      <th>boy</th>\n",
       "      <th>contemporary</th>\n",
       "      <th>mellow</th>\n",
       "      <th>acoustic</th>\n",
       "      <th>rock</th>\n",
       "      <th>french</th>\n",
       "      <th>electropop</th>\n",
       "      <th>candy</th>\n",
       "      <th>art</th>\n",
       "      <th>dance</th>\n",
       "      <th>...</th>\n",
       "      <th>hip</th>\n",
       "      <th>escape</th>\n",
       "      <th>hop</th>\n",
       "      <th>edm</th>\n",
       "      <th>barbadian</th>\n",
       "      <th>british</th>\n",
       "      <th>baroque</th>\n",
       "      <th>tropical</th>\n",
       "      <th>colombian</th>\n",
       "      <th>complextro</th>\n",
       "    </tr>\n",
       "  </thead>\n",
       "  <tbody>\n",
       "    <tr>\n",
       "      <th>0</th>\n",
       "      <td>0</td>\n",
       "      <td>0</td>\n",
       "      <td>1</td>\n",
       "      <td>0</td>\n",
       "      <td>0</td>\n",
       "      <td>0</td>\n",
       "      <td>0</td>\n",
       "      <td>0</td>\n",
       "      <td>0</td>\n",
       "      <td>0</td>\n",
       "      <td>...</td>\n",
       "      <td>0</td>\n",
       "      <td>0</td>\n",
       "      <td>0</td>\n",
       "      <td>0</td>\n",
       "      <td>0</td>\n",
       "      <td>0</td>\n",
       "      <td>0</td>\n",
       "      <td>0</td>\n",
       "      <td>0</td>\n",
       "      <td>0</td>\n",
       "    </tr>\n",
       "    <tr>\n",
       "      <th>1</th>\n",
       "      <td>0</td>\n",
       "      <td>0</td>\n",
       "      <td>0</td>\n",
       "      <td>0</td>\n",
       "      <td>0</td>\n",
       "      <td>0</td>\n",
       "      <td>0</td>\n",
       "      <td>0</td>\n",
       "      <td>0</td>\n",
       "      <td>0</td>\n",
       "      <td>...</td>\n",
       "      <td>1</td>\n",
       "      <td>0</td>\n",
       "      <td>1</td>\n",
       "      <td>0</td>\n",
       "      <td>0</td>\n",
       "      <td>0</td>\n",
       "      <td>0</td>\n",
       "      <td>0</td>\n",
       "      <td>0</td>\n",
       "      <td>0</td>\n",
       "    </tr>\n",
       "    <tr>\n",
       "      <th>2</th>\n",
       "      <td>0</td>\n",
       "      <td>0</td>\n",
       "      <td>0</td>\n",
       "      <td>0</td>\n",
       "      <td>0</td>\n",
       "      <td>0</td>\n",
       "      <td>0</td>\n",
       "      <td>0</td>\n",
       "      <td>0</td>\n",
       "      <td>1</td>\n",
       "      <td>...</td>\n",
       "      <td>0</td>\n",
       "      <td>0</td>\n",
       "      <td>0</td>\n",
       "      <td>0</td>\n",
       "      <td>0</td>\n",
       "      <td>0</td>\n",
       "      <td>0</td>\n",
       "      <td>0</td>\n",
       "      <td>0</td>\n",
       "      <td>0</td>\n",
       "    </tr>\n",
       "    <tr>\n",
       "      <th>3</th>\n",
       "      <td>0</td>\n",
       "      <td>0</td>\n",
       "      <td>0</td>\n",
       "      <td>0</td>\n",
       "      <td>0</td>\n",
       "      <td>0</td>\n",
       "      <td>0</td>\n",
       "      <td>0</td>\n",
       "      <td>0</td>\n",
       "      <td>1</td>\n",
       "      <td>...</td>\n",
       "      <td>0</td>\n",
       "      <td>0</td>\n",
       "      <td>0</td>\n",
       "      <td>0</td>\n",
       "      <td>0</td>\n",
       "      <td>0</td>\n",
       "      <td>0</td>\n",
       "      <td>0</td>\n",
       "      <td>0</td>\n",
       "      <td>0</td>\n",
       "    </tr>\n",
       "    <tr>\n",
       "      <th>4</th>\n",
       "      <td>0</td>\n",
       "      <td>0</td>\n",
       "      <td>0</td>\n",
       "      <td>0</td>\n",
       "      <td>0</td>\n",
       "      <td>0</td>\n",
       "      <td>0</td>\n",
       "      <td>0</td>\n",
       "      <td>0</td>\n",
       "      <td>0</td>\n",
       "      <td>...</td>\n",
       "      <td>0</td>\n",
       "      <td>0</td>\n",
       "      <td>0</td>\n",
       "      <td>0</td>\n",
       "      <td>0</td>\n",
       "      <td>0</td>\n",
       "      <td>0</td>\n",
       "      <td>0</td>\n",
       "      <td>0</td>\n",
       "      <td>0</td>\n",
       "    </tr>\n",
       "  </tbody>\n",
       "</table>\n",
       "<p>5 rows × 54 columns</p>\n",
       "</div>"
      ],
      "text/plain": [
       "   boy  contemporary  mellow  acoustic  rock  french  electropop  candy  art  \\\n",
       "0    0             0       1         0     0       0           0      0    0   \n",
       "1    0             0       0         0     0       0           0      0    0   \n",
       "2    0             0       0         0     0       0           0      0    0   \n",
       "3    0             0       0         0     0       0           0      0    0   \n",
       "4    0             0       0         0     0       0           0      0    0   \n",
       "\n",
       "   dance  ...  hip  escape  hop  edm  barbadian  british  baroque  tropical  \\\n",
       "0      0  ...    0       0    0    0          0        0        0         0   \n",
       "1      0  ...    1       0    1    0          0        0        0         0   \n",
       "2      1  ...    0       0    0    0          0        0        0         0   \n",
       "3      1  ...    0       0    0    0          0        0        0         0   \n",
       "4      0  ...    0       0    0    0          0        0        0         0   \n",
       "\n",
       "   colombian  complextro  \n",
       "0          0           0  \n",
       "1          0           0  \n",
       "2          0           0  \n",
       "3          0           0  \n",
       "4          0           0  \n",
       "\n",
       "[5 rows x 54 columns]"
      ]
     },
     "execution_count": 149,
     "metadata": {},
     "output_type": "execute_result"
    }
   ],
   "source": [
    "song_genres.head()"
   ]
  },
  {
   "cell_type": "code",
   "execution_count": 150,
   "metadata": {},
   "outputs": [
    {
     "name": "stdout",
     "output_type": "stream",
     "text": [
      "Dimensiones de la matriz de similitud del coseno entre los géneros: (603, 603)\n"
     ]
    }
   ],
   "source": [
    "from sklearn.metrics.pairwise import cosine_similarity\n",
    "# https://scikit-learn.org/stable/modules/metrics.html#cosine-similarity\n",
    "\n",
    "cosine_sim = cosine_similarity(song_genres, song_genres)\n",
    "print(f\"Dimensiones de la matriz de similitud del coseno entre los géneros: {cosine_sim.shape}\")"
   ]
  },
  {
   "cell_type": "markdown",
   "metadata": {},
   "source": [
    "Las dimensiones de nuestra matriz de similitud coseno son $M \\times M$ donde $M$ representa el número total de canciones."
   ]
  },
  {
   "cell_type": "code",
   "execution_count": 151,
   "metadata": {},
   "outputs": [
    {
     "data": {
      "text/plain": [
       "array([[1., 0., 0., ..., 0., 0., 0.],\n",
       "       [0., 1., 0., ..., 0., 0., 0.],\n",
       "       [0., 0., 1., ..., 1., 1., 0.],\n",
       "       ...,\n",
       "       [0., 0., 1., ..., 1., 1., 0.],\n",
       "       [0., 0., 1., ..., 1., 1., 0.],\n",
       "       [0., 0., 0., ..., 0., 0., 1.]])"
      ]
     },
     "execution_count": 151,
     "metadata": {},
     "output_type": "execute_result"
    }
   ],
   "source": [
    "# Mostramos la matriz de similitudes entre los géneros. Observa como la columna central es 1.\n",
    "cosine_sim"
   ]
  },
  {
   "cell_type": "code",
   "execution_count": 152,
   "metadata": {},
   "outputs": [
    {
     "data": {
      "text/plain": [
       "['Hey, Soul Sister']"
      ]
     },
     "execution_count": 152,
     "metadata": {},
     "output_type": "execute_result"
    }
   ],
   "source": [
    "def song_finder(title):\n",
    "    return songs[songs['title'].str.contains(title)]['title'].tolist()\n",
    "\n",
    "song_finder('Hey, Soul Sister')"
   ]
  },
  {
   "cell_type": "code",
   "execution_count": 153,
   "metadata": {},
   "outputs": [
    {
     "name": "stdout",
     "output_type": "stream",
     "text": [
      "Recomendaciones similares a Hey, Soul Sister según la similitud entre sus géneros:\n"
     ]
    },
    {
     "data": {
      "text/plain": [
       "210                         All of Me\n",
       "246                             Wings\n",
       "249                     Say Something\n",
       "255                  Not About Angels\n",
       "260    Tee Shirt - Soundtrack Version\n",
       "261                  Words as Weapons\n",
       "426              Keeping Your Head Up\n",
       "431                             Start\n",
       "1                Love The Way You Lie\n",
       "2                             TiK ToK\n",
       "Name: title, dtype: object"
      ]
     },
     "execution_count": 153,
     "metadata": {},
     "output_type": "execute_result"
    }
   ],
   "source": [
    "song_idx = dict(zip(songs['title'], list(songs.index)))\n",
    "title = song_finder('Hey, Soul Sister')[0]\n",
    "n_recommendations = 10\n",
    "\n",
    "idx = song_idx[title]\n",
    "sim_scores = list(enumerate(cosine_sim[idx]))\n",
    "sim_scores = sorted(sim_scores, key=lambda x: x[1], reverse=True)\n",
    "sim_scores = sim_scores[1:(n_recommendations+1)]\n",
    "similar_songs = [i[0] for i in sim_scores]\n",
    "\n",
    "print(f\"Recomendaciones similares a {title} según la similitud entre sus géneros:\")\n",
    "songs['title'].iloc[similar_songs]"
   ]
  },
  {
   "cell_type": "markdown",
   "metadata": {},
   "source": [
    "Con este enfoque basado en contenidos asumimos que dos canciones son \"similares\" si tienen más géneros similares. Estas recomendaciones de \"canciones similares\" se basan únicamente en los metadatos de nuestro conjunto de datos de canciones."
   ]
  },
  {
   "cell_type": "markdown",
   "metadata": {},
   "source": [
    " ### 5. Recomendador colaborativo user-user usando similitud de Pearson\n",
    "\n",
    "En esta última versión vamos a implementar la medida de similitud de Pearson para obtener los usuarios más similares. \n",
    "En esta versión la recomendación puede usar las preferencias de usuarios parecidos calculando para ello la similitud entre sus vectores de valoraciones. "
   ]
  },
  {
   "cell_type": "code",
   "execution_count": 154,
   "metadata": {},
   "outputs": [],
   "source": [
    "def getUserVotes(user):\n",
    "    return ratings.loc[ratings['userId'] == user, 'rating'].values\n",
    "\n",
    "def getVotedsongs(user):\n",
    "    return ratings.loc[ratings['userId'] == user, 'songId'].values\n",
    "\n",
    "def getRating(userId, songId):\n",
    "    data  = ratings.loc[(ratings['userId'] == userId) & (ratings['songId'] == songId), 'rating']\n",
    "    if len(data)==0:\n",
    "        return 0\n",
    "    else:\n",
    "        return data.iloc[0]\n",
    "    \n",
    "def getNormalizedRating(userId, songId):\n",
    "    rating = getRating(userId, songId)\n",
    "    if rating == 0:\n",
    "        return rating\n",
    "    else:\n",
    "        return rating-getUserVotes(userId).mean()"
   ]
  },
  {
   "cell_type": "code",
   "execution_count": 155,
   "metadata": {},
   "outputs": [],
   "source": [
    "## Calcula la similitud de dos usuarios dados.\n",
    "def sim(a,u):\n",
    "    a_votedsongs = getVotedsongs(a)\n",
    "    u_votedsongs = getVotedsongs(u)\n",
    "\n",
    "    a_votes  = getUserVotes(a)\n",
    "    u_votes  = getUserVotes(u)\n",
    "\n",
    "    a_mean = a_votes.mean()\n",
    "    u_mean = u_votes.mean()\n",
    "\n",
    "    commonVotedsongs = [value for value in a_votedsongs if value in u_votedsongs]\n",
    "    s = len(commonVotedsongs)\n",
    "    if s==0:\n",
    "        return 0\n",
    "    \n",
    "    a_votes = [getRating(a, songId) for songId in commonVotedsongs]\n",
    "    u_votes = [getRating(u, songId) for songId in commonVotedsongs]\n",
    "    a_votes_norm = [v - a_mean for v in a_votes]\n",
    "    u_votes_norm = [v - u_mean for v in u_votes]\n",
    "    \n",
    "    dot = np.multiply(a_votes_norm, u_votes_norm)\n",
    "    sum_dot = np.sum(dot)\n",
    "    std  = (np.std(a_votes) * np.std(u_votes))\n",
    "    if std==0:\n",
    "        std = 1\n",
    "    \n",
    "    f  = 50 #Debería ser la media de canciones en común de todo el dataset\n",
    "    sim = sum_dot * s / std / f\n",
    "    return sim"
   ]
  },
  {
   "cell_type": "code",
   "execution_count": 156,
   "metadata": {},
   "outputs": [],
   "source": [
    "# Recupera k usuarios más similares al usuario con idUSer=a\n",
    "def getKMostSimilarUsers(a,k):\n",
    "    users = ratings.userId.unique()\n",
    "    similarity = [sim(a,u) for u in users]\n",
    "    data = {'User': users,\n",
    "        'Similarity': similarity}\n",
    "    simTable = pd.DataFrame(data)\n",
    "    simTable = simTable[simTable.User !=a]\n",
    "    simTable = simTable.sort_values('Similarity',ascending=False)\n",
    "    return simTable.head(k)    "
   ]
  },
  {
   "cell_type": "code",
   "execution_count": 157,
   "metadata": {},
   "outputs": [
    {
     "data": {
      "text/html": [
       "<div>\n",
       "<style scoped>\n",
       "    .dataframe tbody tr th:only-of-type {\n",
       "        vertical-align: middle;\n",
       "    }\n",
       "\n",
       "    .dataframe tbody tr th {\n",
       "        vertical-align: top;\n",
       "    }\n",
       "\n",
       "    .dataframe thead th {\n",
       "        text-align: right;\n",
       "    }\n",
       "</style>\n",
       "<table border=\"1\" class=\"dataframe\">\n",
       "  <thead>\n",
       "    <tr style=\"text-align: right;\">\n",
       "      <th></th>\n",
       "      <th>User</th>\n",
       "      <th>Similarity</th>\n",
       "    </tr>\n",
       "  </thead>\n",
       "  <tbody>\n",
       "    <tr>\n",
       "      <th>599</th>\n",
       "      <td>604</td>\n",
       "      <td>1.683197</td>\n",
       "    </tr>\n",
       "    <tr>\n",
       "      <th>39</th>\n",
       "      <td>41</td>\n",
       "      <td>1.626027</td>\n",
       "    </tr>\n",
       "    <tr>\n",
       "      <th>515</th>\n",
       "      <td>520</td>\n",
       "      <td>1.617560</td>\n",
       "    </tr>\n",
       "    <tr>\n",
       "      <th>500</th>\n",
       "      <td>505</td>\n",
       "      <td>1.575433</td>\n",
       "    </tr>\n",
       "    <tr>\n",
       "      <th>295</th>\n",
       "      <td>300</td>\n",
       "      <td>1.256398</td>\n",
       "    </tr>\n",
       "  </tbody>\n",
       "</table>\n",
       "</div>"
      ],
      "text/plain": [
       "     User  Similarity\n",
       "599   604    1.683197\n",
       "39     41    1.626027\n",
       "515   520    1.617560\n",
       "500   505    1.575433\n",
       "295   300    1.256398"
      ]
     },
     "execution_count": 157,
     "metadata": {},
     "output_type": "execute_result"
    }
   ],
   "source": [
    "getKMostSimilarUsers(1,5)"
   ]
  }
 ],
 "metadata": {
  "kernelspec": {
   "display_name": "Python 3 (ipykernel)",
   "language": "python",
   "name": "python3"
  },
  "language_info": {
   "codemirror_mode": {
    "name": "ipython",
    "version": 3
   },
   "file_extension": ".py",
   "mimetype": "text/x-python",
   "name": "python",
   "nbconvert_exporter": "python",
   "pygments_lexer": "ipython3",
   "version": "3.10.5"
  }
 },
 "nbformat": 4,
 "nbformat_minor": 2
}

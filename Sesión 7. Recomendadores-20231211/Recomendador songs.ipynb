{
 "cells": [
  {
   "cell_type": "markdown",
   "metadata": {},
   "source": [
    "## Sistema recomendador de canciones"
   ]
  },
  {
   "cell_type": "code",
   "execution_count": null,
   "metadata": {},
   "outputs": [],
   "source": [
    "import numpy as np\n",
    "import pandas as pd\n",
    "import matplotlib.pyplot as plt\n",
    "import seaborn as sns"
   ]
  },
  {
   "cell_type": "markdown",
   "metadata": {},
   "source": [
    "### Cargamos los datos y realizamos un análisis exploratorio de los mismos"
   ]
  },
  {
   "cell_type": "code",
   "execution_count": null,
   "metadata": {},
   "outputs": [],
   "source": [
    "ratings = pd.read_csv('ratings_songs.csv')\n",
    "songs = pd.read_csv('songs.csv')"
   ]
  },
  {
   "cell_type": "markdown",
   "metadata": {},
   "source": [
    "Podemos buscar una canción si sabemos su nombre con la siguiente función:"
   ]
  },
  {
   "cell_type": "code",
   "execution_count": null,
   "metadata": {},
   "outputs": [],
   "source": [
    "def song_finder(title):\n",
    "    return songs[songs['title'].str.contains(title)]['title'].tolist()\n",
    "\n",
    "song_finder('Happy')"
   ]
  },
  {
   "cell_type": "code",
   "execution_count": null,
   "metadata": {},
   "outputs": [],
   "source": [
    "##Vamos a filtrar los ratings para quedarnos solo con valoraciones que corresponden a la peliculas del data set (numeradas del 0 al 603) \n",
    "ratings = ratings.loc[ratings['songId'] <= 603]"
   ]
  },
  {
   "cell_type": "markdown",
   "metadata": {},
   "source": [
    "Podemos contar los elementos distintos con la función Series.nunique(dropna=True) (el parámetro indica si ignorar los valores NaN)."
   ]
  },
  {
   "cell_type": "code",
   "execution_count": null,
   "metadata": {},
   "outputs": [],
   "source": [
    "n_ratings = len(ratings)\n",
    "n_songs = ratings['songId'].nunique()\n",
    "n_users = ratings['userId'].nunique()\n",
    "print(f\"Numero de ratings: {n_ratings}\")\n",
    "print(f\"Numero de songId's: {n_songs}\")\n",
    "print(f\"Numero de users: {n_users}\")\n",
    "print(f\"Número medio de ratings por usuario: {round(n_ratings/n_users, 2)}\")\n",
    "print(f\"Número medio de ratings por canción: {round(n_ratings/n_songs, 2)}\")"
   ]
  },
  {
   "cell_type": "code",
   "execution_count": null,
   "metadata": {},
   "outputs": [],
   "source": [
    "#sns.countplot(x=\"rating\", data=ratings, palette=\"viridis\")\n",
    "sns.countplot(x=\"rating\", data=ratings)\n",
    "plt.title(\"Distribución de los ratings de las canciones\", fontsize=14)\n",
    "plt.show()"
   ]
  },
  {
   "cell_type": "code",
   "execution_count": null,
   "metadata": {},
   "outputs": [],
   "source": [
    "print(f\"Rating global medio: {round(ratings['rating'].mean(),2)}.\")\n",
    "mean_ratings = ratings.groupby('userId')['rating'].mean()\n",
    "print(f\"Ratio medio por usuario: {round(mean_ratings.mean(),2)}.\")"
   ]
  },
  {
   "cell_type": "markdown",
   "metadata": {},
   "source": [
    "### 1. Recomendador basado en popularidad\n",
    "Vamos a hacer un recomendador basado en popularidad.\n",
    "\n",
    "Usamos __la media bayesiana__ [Bayesian average](https://en.wikipedia.org/wiki/Bayesian_average) para evaluar la popularidad de las canciones, la que no está afectada por el número de valoraciones. La media bayesiana es un concepto relacionado con la estadística y la teoría de probabilidad que se utiliza para calcular la media de una distribución de probabilidad a partir de una combinación de la información previa y de la nueva información observada. En contraste con la media aritmética común, que se calcula simplemente promediando los valores observados, la media bayesiana toma en cuenta la incertidumbre inherente a los datos y la incorpora de manera formal en el cálculo de la media."
   ]
  },
  {
   "cell_type": "markdown",
   "metadata": {},
   "source": [
    "Para este ejemplo vamos a utilizar la siguiente definición de _Media Bayesiana_:\n",
    "\n",
    "$r_{i} = \\frac{C \\times m + \\Sigma{\\text{reviews}}}{C+N}$\n",
    "\n",
    "Donde:\n",
    "  - $C$ representa la confianza\n",
    "  - $m$ representa el conocimiento previo (prior) que en este ejemplo será el rating medio (calculado con todas las canciones). \n",
    "  - $N$ es el numero total de ratings para la canción $i$ \n",
    "  - $C$ representa el tamaño típico de un data set. En este caso $C$ será el número medio de ratings de las canciones. "
   ]
  },
  {
   "cell_type": "markdown",
   "metadata": {},
   "source": [
    "El cálculo de la media bayesiana es útil en situaciones donde queremos combinar información previa con nuevos datos para obtener una estimación más precisa y ajustada de una variable. Esta técnica es especialmente útil en el contexto del aprendizaje automático y la inferencia bayesiana, donde se modelan distribuciones de probabilidad para tomar decisiones basadas en datos y creencias previas."
   ]
  },
  {
   "cell_type": "code",
   "execution_count": null,
   "metadata": {},
   "outputs": [],
   "source": [
    "song_stats = ratings.groupby('songId')[['rating']].agg(['count', 'mean'])\n",
    "song_stats.columns = song_stats.columns.droplevel()"
   ]
  },
  {
   "cell_type": "code",
   "execution_count": null,
   "metadata": {},
   "outputs": [],
   "source": [
    "C = song_stats['count'].mean()\n",
    "m = song_stats['mean'].mean()\n",
    "\n",
    "def bayesian_avg(ratings):\n",
    "    bayesian_avg = (C*m+ratings.sum())/(C+ratings.count())\n",
    "    return bayesian_avg\n",
    "\n",
    "bayesian_avg_ratings = ratings.groupby('songId')['rating'].agg(bayesian_avg).reset_index()\n",
    "bayesian_avg_ratings.columns = ['songId', 'bayesian_avg']\n",
    "song_stats = song_stats.merge(bayesian_avg_ratings, on='songId')"
   ]
  },
  {
   "cell_type": "code",
   "execution_count": null,
   "metadata": {},
   "outputs": [],
   "source": [
    "song_stats = song_stats.merge(songs[['id', 'title']], left_on='songId', right_on='id')\n",
    "song_stats.sort_values('bayesian_avg', ascending=False).head()"
   ]
  },
  {
   "cell_type": "markdown",
   "metadata": {},
   "source": [
    "Utilizando la media bayesiana, vemos que `What the Hell`, `Roar`, y `Good as Hell (feat. Ariana Grande) - Remix` son las canciones mejor valoradas. Este resultado tiene mucho más sentido ya que estas canciones son ampliamente aclamadas por la crítica."
   ]
  },
  {
   "cell_type": "code",
   "execution_count": null,
   "metadata": {},
   "outputs": [],
   "source": [
    "song_stats.sort_values('bayesian_avg', ascending=True).head()"
   ]
  },
  {
   "cell_type": "markdown",
   "metadata": {},
   "source": [
    "Con el promedio bayesiano, parece que `Higher Love`, `Someone Like You`, y `Treasure` son las canciones peor valoradas."
   ]
  },
  {
   "cell_type": "markdown",
   "metadata": {},
   "source": [
    "### 2. Recomendador basado en contenidos teniendo en cuenta los géneros exactos de las canciones\n",
    "\n",
    "Además de recomendar las canciones más o menos populares del data set podemos hacer una recomendación basada en contenidos. Los datos que tenemos de las canciones son sólo el título, el año y el género, por lo que haremos un recomendador que tenga en cuenta los géneros de las canciones. Esto permitirá enriquecer las recomendaciones de forma personalizada según los gustos específicos. En este caso no se aplica similitud sino simplemente un filtro exacto sobre los géneros.\n",
    "\n",
    "Recordamos que en el dataset de canciones:\n",
    "- `top genre` se expresa como una cadena de texto con un carácter \" \" que separa cada género. \n",
    "\n",
    "Vamos a manipular esta cadena para convertirla en una lista, lo que facilitará su análisis.\n",
    "\n",
    "- `title` actualmente tiene el año entre paréntesis al final. \n",
    "\n",
    "Extraeremos el año de cada cadena de título y crearemos una nueva columna para él."
   ]
  },
  {
   "cell_type": "code",
   "execution_count": null,
   "metadata": {},
   "outputs": [],
   "source": [
    "songs['top genre']"
   ]
  },
  {
   "cell_type": "code",
   "execution_count": null,
   "metadata": {},
   "outputs": [],
   "source": [
    "songs['top genre'] = songs['top genre'].apply(lambda x: x.split(\" \"))\n",
    "songs.head()"
   ]
  },
  {
   "cell_type": "markdown",
   "metadata": {},
   "source": [
    "Vamos a ver cuántos géneros diferentes hay en el dataset y cuántas canciones tenemos de cada género utilizando Counter sobre la Serie de datos de la columna `top genre`. "
   ]
  },
  {
   "cell_type": "code",
   "execution_count": null,
   "metadata": {},
   "outputs": [],
   "source": [
    "from collections import Counter\n",
    "genre_frequency = Counter(g for genres in songs['top genre'] for g in genres)\n",
    "print(f\"There are {len(genre_frequency)} genres.\")\n",
    "genre_frequency"
   ]
  },
  {
   "cell_type": "code",
   "execution_count": null,
   "metadata": {},
   "outputs": [],
   "source": [
    "print(\"Los 5 géneros más comunes son: \\n\", genre_frequency.most_common(5))"
   ]
  },
  {
   "cell_type": "code",
   "execution_count": null,
   "metadata": {},
   "outputs": [],
   "source": [
    "# songs = pd.read_csv('songs.csv')\n",
    "def recommender_by_genre(genre):\n",
    "    songs_grouped = songs.groupby('top genre')\n",
    "    recomendadas = pd.DataFrame()\n",
    "    for key, group in songs_grouped:\n",
    "        recomendadas = pd.concat([recomendadas, group], axis=0)\n",
    "    songs2 = recomendadas.loc[recomendadas['top genre'] == genre]\n",
    "    return songs2[['songId', 'title', 'top genre']]"
   ]
  },
  {
   "cell_type": "code",
   "execution_count": null,
   "metadata": {},
   "outputs": [],
   "source": [
    "recommender_by_genre('pop')"
   ]
  },
  {
   "cell_type": "markdown",
   "metadata": {},
   "source": [
    "### 3. Recomendador basado filtrado colaborativo\n",
    "\n",
    "Vamos a utilizar filtrado colaborativo para generar recomendaciones para los usuarios. Como hemos visto en clase esta técnica se basa en la premisa de que personas similares tienen gustos similares.\n",
    "El primer paso es transformar nuestros datos en una matriz usuario-elemento, también conocida como matriz de \"utilidad\". \n",
    "Como hemos visto en clase, en esta matriz, las filas representan a los usuarios y las columnas representan a las canciones. La mejor parte del filtrado colaborativo es que no requiere ninguna información adicional sobre los usuarios o las canciones para generar recomendaciones.\n",
    "\n",
    "<img src=\"collaborativeFiltering.png\" width=60%/>\n"
   ]
  },
  {
   "cell_type": "markdown",
   "metadata": {},
   "source": [
    "La función `create_X()` produce una matriz dispersa X con cuatro diccionarios de mapeo:\n",
    "- **user_mapper**: mapea el ID del usuario al índice del usuario.\n",
    "- **song_mapper**: mapea el ID de la canción al índice de la canción.\n",
    "- **user_inv_mapper**: mapea el índice del usuario al ID del usuario.\n",
    "- **song_inv_mapper**: mapea el índice de la canción al ID de la canción.\n",
    "\n",
    "Necesitamos estos diccionarios porque establecen la correspondencia entre qué fila/columna de la matriz de utilidad se relaciona con qué ID de usuario/canción.\n",
    "\n",
    "Esta matriz tiene muchos valores desconocidos y para almacenar la matriz de utilidad (user-item) utilizaremos un tipo de matriz específico [scipy.sparse.csr_matrix](https://docs.scipy.org/doc/scipy-0.14.0/reference/generated/scipy.sparse.csr_matrix.html) que almacena datos dispersos de forma eficiente."
   ]
  },
  {
   "cell_type": "code",
   "execution_count": null,
   "metadata": {},
   "outputs": [],
   "source": [
    "from scipy.sparse import csr_matrix\n",
    "\n",
    "def create_X(df):\n",
    "    \"\"\"\n",
    "    Genera una matriz dispersa a partir del marco de datos de calificaciones.\n",
    "    \n",
    "    Argumentos:\n",
    "        df: dataframe de pandas que contiene 3 columnas (userId, songId, rating)\n",
    "    \n",
    "    Devoluciones:\n",
    "        X: matriz dispersa\n",
    "        user_mapper: dict que asigna las identificaciones de usuario a los índices de usuario\n",
    "        user_inv_mapper: dict que asigna índices de usuario a ID de usuario\n",
    "        song_mapper: dict que asigna las identificaciones de canciones a los índices de canciones\n",
    "        song_inv_mapper: dict que asigna índices de canciones a ID de canciones\n",
    "        \n",
    "    \"\"\"\n",
    "    M = df['userId'].nunique()\n",
    "    N = df['songId'].nunique()\n",
    "\n",
    "    user_mapper = dict(zip(np.unique(df[\"userId\"]), list(range(M))))\n",
    "    song_mapper = dict(zip(np.unique(df[\"songId\"]), list(range(N))))\n",
    "    \n",
    "    user_inv_mapper = dict(zip(list(range(M)), np.unique(df[\"userId\"])))\n",
    "    song_inv_mapper = dict(zip(list(range(N)), np.unique(df[\"songId\"])))\n",
    "    \n",
    "    user_index = [user_mapper[i] for i in df['userId']]\n",
    "    item_index = [song_mapper[i] for i in df['songId']]\n",
    "\n",
    "    X = csr_matrix((df[\"rating\"], (user_index,item_index)), shape=(M,N))\n",
    "    \n",
    "    return X, user_mapper, song_mapper, user_inv_mapper, song_inv_mapper"
   ]
  },
  {
   "cell_type": "code",
   "execution_count": null,
   "metadata": {},
   "outputs": [],
   "source": [
    "# Creamos en X una matriz de utilidad usando nuestros datos de ratings. Además disponemos de estructuras para indexar los datos dispersos.\n",
    "X, user_mapper, song_mapper, user_inv_mapper, song_inv_mapper = create_X(ratings)"
   ]
  },
  {
   "cell_type": "markdown",
   "metadata": {},
   "source": [
    "Para calcular la dispersión (sparsity) de esta matriz se divide el número total de elementos no vacíos entre el número total de elementos.  El número de elementos almacenados (no vacíos) en nuestra matriz es equivalente al número de ratings en nuestro conjunto de datos. \n",
    "`csr_matrix.nnz` cuenta los valores almacenados (no vacíos) en la matriz de utilidad. El resto de celdas están vacías.\n",
    "\n",
    "Este es problema del inicio en frío (**cold start**) que ocurre cuando hay nuevos usuarios y canciones en nuestra matriz que no tienen calificaciones. Es útil verificar qué usuarios y canciones tienen pocas (o ninguna) interacciones. \n",
    "Vamos a ver que en estos datos de songlens no hay ningún usuario ni canción sin interacciones pero sí hay algunas que tienen muy pocas."
   ]
  },
  {
   "cell_type": "code",
   "execution_count": null,
   "metadata": {},
   "outputs": [],
   "source": [
    "n_total = X.shape[0]*X.shape[1]\n",
    "n_ratings = X.nnz\n",
    "sparsity = n_ratings/n_total\n",
    "print(f\"Matrix sparsity: {round(sparsity*100,2)}%\")"
   ]
  },
  {
   "cell_type": "code",
   "execution_count": null,
   "metadata": {},
   "outputs": [],
   "source": [
    "n_ratings_per_user = X.getnnz(axis=1)\n",
    "\n",
    "print(f\"El usuario más activo ha valorado {n_ratings_per_user.max()} canciones.\")\n",
    "print(f\"El usuario menos activo ha valorado {n_ratings_per_user.min()} canciones.\")"
   ]
  },
  {
   "cell_type": "code",
   "execution_count": null,
   "metadata": {},
   "outputs": [],
   "source": [
    "n_ratings_per_song = X.getnnz(axis=0)\n",
    "\n",
    "print(f\"La canción más valorada tiene {n_ratings_per_song.max()} ratings.\")\n",
    "print(f\"La canción menos valorada tiene {n_ratings_per_song.min()} ratings.\")"
   ]
  },
  {
   "cell_type": "code",
   "execution_count": null,
   "metadata": {
    "scrolled": true
   },
   "outputs": [],
   "source": [
    "plt.figure(figsize=(16,4))\n",
    "plt.subplot(1,2,1)\n",
    "sns.kdeplot(n_ratings_per_user, fill=True)\n",
    "plt.xlim(0)\n",
    "plt.title(\"Número de ratings por usuario\", fontsize=14)\n",
    "plt.xlabel(\"Número de ratings por usuario\")\n",
    "plt.ylabel(\"Densidad\")\n",
    "plt.subplot(1,2,2)\n",
    "sns.kdeplot(n_ratings_per_song, fill=True)\n",
    "plt.xlim(0)\n",
    "plt.title(\"Numero de Ratings por canción\", fontsize=14)\n",
    "plt.xlabel(\"Número de ratings por canción\")\n",
    "plt.ylabel(\"Densidad\")\n",
    "plt.show()"
   ]
  },
  {
   "cell_type": "markdown",
   "metadata": {},
   "source": [
    "Vamos a normalizar nuestros datos.\n",
    "    - Definimos el sesgo usuario-elemento como: $b_{ui} = \\mu + b_{u} + b_{i}$\n",
    "    - Realizamos la normalización de la media restando $b_{i}$ a los ratings de cada canción."
   ]
  },
  {
   "cell_type": "code",
   "execution_count": null,
   "metadata": {},
   "outputs": [],
   "source": [
    "sum_ratings_per_song = X.sum(axis=0)\n",
    "mean_rating_per_song = sum_ratings_per_song/n_ratings_per_song\n",
    "mean_rating_per_song"
   ]
  },
  {
   "cell_type": "markdown",
   "metadata": {},
   "source": [
    "Ahora que tenemos la calificación promedio para cada canción, vamos a restar esto de nuestra matriz de utilidad. Para hacerlo, necesitamos expandir nuestra matriz 1D `mean_rating_per_song` en una matriz con la misma forma que nuestra matriz de utilidad `(n_users, n_songs)`. \n",
    "\n",
    "El método `tile` de Numpy es útil para esta tarea."
   ]
  },
  {
   "cell_type": "code",
   "execution_count": null,
   "metadata": {},
   "outputs": [],
   "source": [
    "X_mean_song = np.tile(mean_rating_per_song, (X.shape[0],1))"
   ]
  },
  {
   "cell_type": "code",
   "execution_count": null,
   "metadata": {},
   "outputs": [],
   "source": [
    "X_mean_song.shape"
   ]
  },
  {
   "cell_type": "markdown",
   "metadata": {},
   "source": [
    "`X_mean_song` es una matriz de forma (n_users, n_songs) en la que cada columna está poblada con la calificación promedio de una canción específica.\n",
    "\n",
    "Podemos normalizar fácilmente nuestra matriz X restando `X_mean_song` de la matriz original `X`."
   ]
  },
  {
   "cell_type": "code",
   "execution_count": null,
   "metadata": {},
   "outputs": [],
   "source": [
    "X_norm = X - csr_matrix(X_mean_song)"
   ]
  },
  {
   "cell_type": "markdown",
   "metadata": {},
   "source": [
    "Como era de esperar, los valores de `X_norm` son diferentes de los de `X`. Las celdas que estaban vacías en la matriz original ahora están reemplazadas por valores negativos que representan la calificación promedio de una canción específica."
   ]
  },
  {
   "cell_type": "code",
   "execution_count": null,
   "metadata": {},
   "outputs": [],
   "source": [
    "print(\"Original X:\", X[0].todense())\n",
    "print(\"Normalized X:\", X_norm[0].todense())"
   ]
  },
  {
   "cell_type": "markdown",
   "metadata": {},
   "source": [
    "#### 3.1.  Recomendaciones con filtrado colaborativo Item-item "
   ]
  },
  {
   "cell_type": "markdown",
   "metadata": {},
   "source": [
    "Vamos a encontrar las $k$ canciones que tienen los vectores de participación de usuarios más similares a la canción $i$.\n",
    "Utilizaremos el método k-NearestNeighbors (K-NN) de la librería sklearn de python. La librería tiene implementadas algunas medidas de similitud (como la del coseno vista en clase) para comparar los vectores item-item o user-user. \n",
    "Puedes ver la documentación en https://scikit-learn.org/stable/modules/generated/sklearn.neighbors.NearestNeighbors.html#sklearn.neighbors.NearestNeighbors\n"
   ]
  },
  {
   "cell_type": "code",
   "execution_count": null,
   "metadata": {},
   "outputs": [],
   "source": [
    "from sklearn.neighbors import NearestNeighbors\n",
    "\n",
    "def find_similar_songs(song_id, X, song_mapper, song_inv_mapper, k, metric='cosine'):\n",
    "    \"\"\"\n",
    "    Encuentra los k vecinos más cercanos para una canción dada.\n",
    "    \n",
    "    Argumentos:\n",
    "        song_id: id de la canción de interés\n",
    "        X: matriz de utilidad user-item\n",
    "        k: número de canciones similares que queremos recuperar\n",
    "        métrica: métrica de distancia para los cálculos de kNN\n",
    "    \n",
    "    Salida: devuelve una lista de k ID de canciones similares\n",
    "    \"\"\"\n",
    "    X = X.T\n",
    "    neighbour_ids = []\n",
    "    \n",
    "    song_ind = song_mapper[song_id]\n",
    "    song_vec = X[song_ind]\n",
    "    if isinstance(song_vec, (np.ndarray)):\n",
    "        song_vec = song_vec.reshape(1,-1)\n",
    "    # usamos k+1 porque la salida kNN incluye la canción de ID = songId\n",
    "    kNN = NearestNeighbors(n_neighbors=k+1, algorithm=\"brute\", metric=metric)\n",
    "    kNN.fit(X)\n",
    "    neighbour = kNN.kneighbors(song_vec, return_distance=False)\n",
    "    for i in range(0,k):\n",
    "        n = neighbour.item(i)\n",
    "        neighbour_ids.append(song_inv_mapper[n])\n",
    "    neighbour_ids.pop(0)\n",
    "    return neighbour_ids"
   ]
  },
  {
   "cell_type": "markdown",
   "metadata": {},
   "source": [
    "`find_similar_songs()` calcula para un cierto `songId` y una matriz `X`, una lista de $k$ canciones que son similares a la canción `songId` según los vectores de ratings de las canciones.\n",
    "`find_similar_songs()` devuelve una lista de los `songId` que son más similares a la canción dada. Vamos a convertirlos a títulos para entender mejor los resultados creando un diccionario con `songId` y `title`."
   ]
  },
  {
   "cell_type": "code",
   "execution_count": null,
   "metadata": {},
   "outputs": [],
   "source": [
    "similar_songs = find_similar_songs(1, X_norm, song_mapper, song_inv_mapper, k=10)\n",
    "similar_songs"
   ]
  },
  {
   "cell_type": "markdown",
   "metadata": {},
   "source": [
    "Estas son las K=10 canciones más similares. Como queremos saber los títulos de las canciones vamos a crear un mapeado entre songId y los títulos para que los resultados sean más fáciles de interpretar. "
   ]
  },
  {
   "cell_type": "code",
   "execution_count": null,
   "metadata": {},
   "outputs": [],
   "source": [
    "song_titles = dict(zip(songs['id'], songs['title']))\n",
    "\n",
    "song_id = 1\n",
    "\n",
    "similar_songs = find_similar_songs(song_id, X_norm, song_mapper, song_inv_mapper, metric='cosine', k=10)\n",
    "song_title = song_titles[song_id]\n",
    "\n",
    "print(f\" Porque has visto ... {song_title} ... te recomendamos:\")\n",
    "for i in similar_songs:\n",
    "    print(song_titles[i])"
   ]
  },
  {
   "cell_type": "markdown",
   "metadata": {},
   "source": [
    "Los resultados anteriores muestran las 10 canciones más similares a Toy Story. La mayoría de las canciones de esta lista son canciones _familiares_ de la década de 1990, lo que parece bastante razonable. Hay que tener en cuenta que estas recomendaciones se basan únicamente en las calificaciones de los usuarios. En este enfoque colaborativo **no se utilizan características específicas de las canciones** como sus géneros. Si queremos tener en cuenta las características deberíamos usar un enfoque basado en contenidos (_content-based_) como hemos hecho antes. Tambien puedes combinar las dos aproximaciones. "
   ]
  },
  {
   "cell_type": "markdown",
   "metadata": {},
   "source": [
    "Se pueden hacer distintas pruebas con otras métricas kNN utilizando distancia \"manhattan\" o \"euclidea\" en vez de la similitud del \"coseno\". Observa que los resultados son diferentes. Habría que evaluar cual de ellas proporciona unos resultados mejores.\n"
   ]
  },
  {
   "cell_type": "code",
   "execution_count": null,
   "metadata": {},
   "outputs": [],
   "source": [
    "song_id = 1\n",
    "\n",
    "similar_songs = find_similar_songs(song_id, X_norm, song_mapper, song_inv_mapper, metric='euclidean', k=10)\n",
    "song_title = song_titles[song_id]\n",
    "\n",
    "print(f\"Porque has visto {song_title} te recomendamos:\")\n",
    "for i in similar_songs:\n",
    "    print(song_titles[i])"
   ]
  },
  {
   "cell_type": "markdown",
   "metadata": {},
   "source": [
    "### 4. Recomendador basado en contenidos usando similitud del coseno"
   ]
  },
  {
   "cell_type": "markdown",
   "metadata": {},
   "source": [
    "El filtrado colaborativo se basa únicamente en las interacciones entre el usuario y las canciones. El problema con este enfoque es que los usuarios nuevos o las canciones que no han tenido interaciones (valoraciones) o han tenido muy pcoas quedan excluidos del sistema de recomendación (no tenemos datos sobre los usuarios, ni sobre sus gustos). Esto se llama problema de arranque en frío o _cold-start_. El filtrado basado en contenido (content-based) es una forma de manejar este problema generando recomendaciones basadas en las características del usuario y del elemento."
   ]
  },
  {
   "cell_type": "markdown",
   "metadata": {},
   "source": [
    "Como una canción puede tener varios géneros vamos a convertir la columna de los géneros de las canciones en características binarias. Lo que queremos es que cada género tenga su propia columna binaria que se rellena con 0 o 1 en la fila de cada canción según tenga o no un géneros. Esta representación con un vector binario de generos permite aplicar la similitud del coseno para comparar dos canciones según los géneros que comparten."
   ]
  },
  {
   "cell_type": "code",
   "execution_count": null,
   "metadata": {},
   "outputs": [],
   "source": [
    "n_songs = songs['id'].nunique()\n",
    "print(f\"Hay {n_songs} canciones en el dataset.\")"
   ]
  },
  {
   "cell_type": "code",
   "execution_count": null,
   "metadata": {},
   "outputs": [],
   "source": [
    "genres = set(g for G in songs['top genre'] for g in G)\n",
    "\n",
    "for g in genres:\n",
    "    songs[g] = songs[\"top genre\"].transform(lambda x: int(g in x))\n",
    "    \n",
    "song_genres = songs.drop(columns=['id', 'title','top genre'])"
   ]
  },
  {
   "cell_type": "code",
   "execution_count": null,
   "metadata": {},
   "outputs": [],
   "source": [
    "song_genres.head()"
   ]
  },
  {
   "cell_type": "code",
   "execution_count": null,
   "metadata": {},
   "outputs": [],
   "source": [
    "from sklearn.metrics.pairwise import cosine_similarity\n",
    "# https://scikit-learn.org/stable/modules/metrics.html#cosine-similarity\n",
    "\n",
    "cosine_sim = cosine_similarity(song_genres, song_genres)\n",
    "print(f\"Dimensiones de la matriz de similitud del coseno entre los géneros: {cosine_sim.shape}\")"
   ]
  },
  {
   "cell_type": "markdown",
   "metadata": {},
   "source": [
    "Las dimensiones de nuestra matriz de similitud coseno son $M \\times M$ donde $M$ representa el número total de canciones."
   ]
  },
  {
   "cell_type": "code",
   "execution_count": null,
   "metadata": {},
   "outputs": [],
   "source": [
    "# Mostramos la matriz de similitudes entre los géneros. Observa como la columna central es 1.\n",
    "cosine_sim"
   ]
  },
  {
   "cell_type": "code",
   "execution_count": null,
   "metadata": {},
   "outputs": [],
   "source": [
    "def song_finder(title):\n",
    "    return songs[songs['title'].str.contains(title)]['title'].tolist()\n",
    "\n",
    "song_finder('Toy Story')"
   ]
  },
  {
   "cell_type": "code",
   "execution_count": null,
   "metadata": {},
   "outputs": [],
   "source": [
    "song_idx = dict(zip(songs['title'], list(songs.index)))\n",
    "title = song_finder('Toy Story')[0]\n",
    "n_recommendations = 10\n",
    "\n",
    "idx = song_idx[title]\n",
    "sim_scores = list(enumerate(cosine_sim[idx]))\n",
    "sim_scores = sorted(sim_scores, key=lambda x: x[1], reverse=True)\n",
    "sim_scores = sim_scores[1:(n_recommendations+1)]\n",
    "similar_songs = [i[0] for i in sim_scores]\n",
    "\n",
    "print(f\"Recomendaciones similares a {title} según la similitud entre sus géneros:\")\n",
    "songs['title'].iloc[similar_songs]"
   ]
  },
  {
   "cell_type": "markdown",
   "metadata": {},
   "source": [
    "Con este enfoque basado en contenidos asumimos que dos canciones son \"similares\" si tienen más géneros similares. Estas recomendaciones de \"canciones similares\" se basan únicamente en los metadatos de nuestro conjunto de datos de canciones. \n",
    "\n",
    "Realiza alguna prueba más con otras canciones que te gusten y observa si las recomendaciones son adecuadas."
   ]
  },
  {
   "cell_type": "markdown",
   "metadata": {},
   "source": [
    " ### 5. Recomendador colaborativo user-user usando similitud de Pearson\n",
    "\n",
    "En esta última versión vamos a implementar la medida de similitud de Pearson para obtener los usuarios más similares. \n",
    "En esta versión la recomendación puede usar las preferencias de usuarios parecidos calculando para ello la similitud entre sus vectores de valoraciones. "
   ]
  },
  {
   "cell_type": "code",
   "execution_count": null,
   "metadata": {},
   "outputs": [],
   "source": [
    "def getUserVotes(user):\n",
    "    return ratings.loc[ratings['userId'] == user, 'rating'].values\n",
    "\n",
    "def getVotedsongs(user):\n",
    "    return ratings.loc[ratings['userId'] == user, 'songId'].values\n",
    "\n",
    "def getRating(userId, songId):\n",
    "    data  = ratings.loc[(ratings['userId'] == userId) & (ratings['songId'] == songId), 'rating']\n",
    "    if len(data)==0:\n",
    "        return 0\n",
    "    else:\n",
    "        return data.iloc[0]\n",
    "    \n",
    "def getNormalizedRating(userId, songId):\n",
    "    rating = getRating(userId, songId)\n",
    "    if rating == 0:\n",
    "        return rating\n",
    "    else:\n",
    "        return rating-getUserVotes(userId).mean()"
   ]
  },
  {
   "cell_type": "code",
   "execution_count": null,
   "metadata": {},
   "outputs": [],
   "source": [
    "## Calcula la similitud de dos usuarios dados.\n",
    "def sim(a,u):\n",
    "    a_votedsongs = getVotedsongs(a)\n",
    "    u_votedsongs = getVotedsongs(u)\n",
    "\n",
    "    a_votes  = getUserVotes(a)\n",
    "    u_votes  = getUserVotes(u)\n",
    "\n",
    "    a_mean = a_votes.mean()\n",
    "    u_mean = u_votes.mean()\n",
    "\n",
    "    commonVotedsongs = [value for value in a_votedsongs if value in u_votedsongs]\n",
    "    s = len(commonVotedsongs)\n",
    "    if s==0:\n",
    "        return 0\n",
    "    \n",
    "    a_votes = [getRating(a, songId) for songId in commonVotedsongs]\n",
    "    u_votes = [getRating(u, songId) for songId in commonVotedsongs]\n",
    "    a_votes_norm = [v - a_mean for v in a_votes]\n",
    "    u_votes_norm = [v - u_mean for v in u_votes]\n",
    "    \n",
    "    dot = np.multiply(a_votes_norm, u_votes_norm)\n",
    "    sum_dot = np.sum(dot)\n",
    "    std  = (np.std(a_votes) * np.std(u_votes))\n",
    "    if std==0:\n",
    "        std = 1\n",
    "    \n",
    "    f  = 50 #Debería ser la media de canciones en común de todo el dataset\n",
    "    sim = sum_dot * s / std / f\n",
    "    return sim"
   ]
  },
  {
   "cell_type": "code",
   "execution_count": null,
   "metadata": {},
   "outputs": [],
   "source": [
    "# Recupera k usuarios más similares al usuario con idUSer=a\n",
    "def getKMostSimilarUsers(a,k):\n",
    "    users = ratings.userId.unique()\n",
    "    similarity = [sim(a,u) for u in users]\n",
    "    data = {'User': users,\n",
    "        'Similarity': similarity}\n",
    "    simTable = pd.DataFrame(data)\n",
    "    simTable = simTable[simTable.User !=a]\n",
    "    simTable = simTable.sort_values('Similarity',ascending=False)\n",
    "    return simTable.head(k)    "
   ]
  },
  {
   "cell_type": "code",
   "execution_count": null,
   "metadata": {},
   "outputs": [],
   "source": [
    "getKMostSimilarUsers(1,5)"
   ]
  },
  {
   "cell_type": "markdown",
   "metadata": {},
   "source": [
    "### Evaluación de recomendadores"
   ]
  },
  {
   "attachments": {
    "image.png": {
     "image/png": "[encoded data removed]"
    }
   },
   "cell_type": "markdown",
   "metadata": {},
   "source": [
    "Podemos observar cómo funciona el sistema para hacernos a la idea de cómo funciona, pero ¿cómo sabemos si nuestras recomendaciones son realmente buenas? \n",
    "Una manera de evaluar nuestro sistema es probarlo con usuarios reales haciendo pruebas de usabilidad, donde podemos obtener comentarios directos de los usuarios. Sin embargo, esta opción no siempre está disponible, lo que significa que debemos utilizar métricas calculadas sobre los resultados.\n",
    "\n",
    "En el aprendizaje automático tradicional, evaluamos un modelo dividiendo nuestros datos en dos conjuntos: \n",
    "- \"conjunto de entrenamiento\" \n",
    "- \"conjunto de validación\"\n",
    "    \n",
    "![image.png](attachment:image.png)\n",
    "\n",
    "Y se puede hacer validación cruzada repitiendo este proceso de dividir los datos en dos conjuntos varias veces y luego hacer la media de los resultados.\n",
    "\n",
    "En los sistemas de recomendación generamos nuestro \"conjunto de entrenamiento\" enmascarando interacciones aleatorias en nuestra matriz usuario-elemento. En otras palabras, hacemos como que no sabemos si a un usuario le gustó una cierta canción \"A\", pero en realidad sí lo sabemos. Una vez que entrenamos nuestro modelo y generamos nuestras predicciones de calificación, podemos comparar nuestra calificación prevista con la calificación real."
   ]
  },
  {
   "cell_type": "markdown",
   "metadata": {},
   "source": [
    "Hay varias formas de comparar la calificación (rating) calculado por el sistema con la calificación real (que sabemos). Las más comunes son:\n",
    "    \n",
    "1) Error cuadrático medio (RMSE, Root Mean Squared Error): $\\text{RMSE} = \\sqrt{\\frac{\\Sigma^N_{i=1}(y-\\hat{y})^2}{N}}$\n",
    "\n",
    "2) Precision: $\\text{Precision} = \\frac{TP}{TP+FP}$\n",
    "\n",
    "3) Recall: $\\text{Recall} = \\frac{TP}{TP+FN}$"
   ]
  }
 ],
 "metadata": {
  "kernelspec": {
   "display_name": "Python 3 (ipykernel)",
   "language": "python",
   "name": "python3"
  },
  "language_info": {
   "codemirror_mode": {
    "name": "ipython",
    "version": 3
   },
   "file_extension": ".py",
   "mimetype": "text/x-python",
   "name": "python",
   "nbconvert_exporter": "python",
   "pygments_lexer": "ipython3",
   "version": "3.10.5"
  }
 },
 "nbformat": 4,
 "nbformat_minor": 2
}

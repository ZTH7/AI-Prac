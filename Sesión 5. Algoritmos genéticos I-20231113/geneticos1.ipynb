{
 "cells": [
  {
   "cell_type": "markdown",
   "metadata": {},
   "source": [
    "# Inteligencia Artificial 2023/24\n",
    "###  Belén Díaz Agudo -  Facultad de Informática UCM\n",
    "### Búsqueda local con algoritmos genéticos\n",
    "\n",
    "En esta primera parte usaremos ejercicios paso a paso para familiarizarnos con la resolución de problemas sencillos de optimización, problemas conocidos que vamos a resolver utilizando algoritmos genéticos. \n",
    "- Optimización de una función matemática \n",
    "- Encontrar los valores que resuelven una ecuación\n",
    "- Problema de la mochila\n",
    "- Resolver un puzle \n",
    "\n",
    "Este notebook no hay que entregarlo. Se evaluará en el cuestionario de evaluación.\n",
    "\n",
    "En la segunda sesión de la práctica se os propondrá un problema adicional para entregar. "
   ]
  },
  {
   "cell_type": "markdown",
   "metadata": {},
   "source": [
    "##  Algoritmos genéticos\n"
   ]
  },
  {
   "cell_type": "markdown",
   "metadata": {},
   "source": [
    "Se define una clase ProblemaGenetico que incluye los elementos necesarios para la representación de un problema de optimización que se va a resolver con un algoritmo genético. Los elementos son los que hemos visto en clase:\n",
    "\n",
    " - genes: lista de genes usados en el genotipo de los estados.\n",
    " - longitud_individuos: longitud de los cromosomas\n",
    " - decodifica: función de obtiene el fenotipo a partir del genotipo.\n",
    " - fitness: función de valoración.\n",
    " - muta: función de mutación de un cromosoma \n",
    " - cruza: función de cruce de un par de cromosomas"
   ]
  },
  {
   "cell_type": "code",
   "execution_count": 3,
   "metadata": {},
   "outputs": [],
   "source": [
    "import random"
   ]
  },
  {
   "cell_type": "code",
   "execution_count": 4,
   "metadata": {},
   "outputs": [],
   "source": [
    "class ProblemaGenetico(object):\n",
    "        def __init__(self, genes,fun_dec,fun_muta , fun_cruza, fun_fitness,longitud_individuos):\n",
    "            self.genes = genes\n",
    "            self.fun_dec = fun_dec\n",
    "            self.fun_cruza = fun_cruza\n",
    "            self.fun_muta = fun_muta\n",
    "            self.fun_fitness = fun_fitness\n",
    "            self.longitud_individuos = longitud_individuos\n",
    "            \"\"\"Constructor de la clase\"\"\"\n",
    "                \n",
    "        def decodifica(self, genotipo):\n",
    "            \"\"\"Devuelve el fenotipo a partir del genotipo\"\"\"\n",
    "            fenotipo = self.fun_dec(genotipo)\n",
    "            return fenotipo\n",
    "        def muta(self, cromosoma,prob):\n",
    "            \"\"\"Devuelve el cromosoma mutado\"\"\"   \n",
    "            mutante = self.fun_muta(cromosoma,prob)\n",
    "            return mutante\n",
    "        def cruza(self, cromosoma1, cromosoma2):         \n",
    "            \"\"\"Devuelve el cruce de un par de cromosomas\"\"\"\n",
    "            cruce = self.fun_cruza(cromosoma1,cromosoma2)\n",
    "            return cruce \n",
    "        def fitness(self, cromosoma):    \n",
    "            \"\"\"Función de valoración\"\"\"\n",
    "            valoracion = self.fun_fitness(cromosoma)\n",
    "            return valoracion"
   ]
  },
  {
   "cell_type": "markdown",
   "metadata": {},
   "source": [
    "### Problema tipo 1 a resolver: encontrar el valor X que optimice una función\n",
    "\n",
    "Vamos a usar como ejemplo trivial la función cuadrado x^2 en el conjunto de los números naturales menores que 2^{10}. \n",
    "Se usa este ejemplo trivial (del que sabemos la solución) para ver todos los elementos de configuración del algoritmo genético y poder observar su comportamiento. Después deberás probar con otra función más compleja de tu elección. "
   ]
  },
  {
   "cell_type": "code",
   "execution_count": 5,
   "metadata": {},
   "outputs": [],
   "source": [
    "# Será necesaria la siguiente función que interpreta una lista de 0's y 1's como un número natural:  \n",
    "# La siguiente función que interpreta una lista de 0's y 1's como\n",
    "# un número natural:  \n",
    "\n",
    "def binario_a_decimal(x):\n",
    "    x=x[::-1]\n",
    "    return sum(b*(2**i) for (i,b) in enumerate(x)) "
   ]
  },
  {
   "cell_type": "code",
   "execution_count": 6,
   "metadata": {},
   "outputs": [
    {
     "data": {
      "text/plain": [
       "14"
      ]
     },
     "execution_count": 6,
     "metadata": {},
     "output_type": "execute_result"
    }
   ],
   "source": [
    "binario_a_decimal((1,1,1,0))"
   ]
  },
  {
   "cell_type": "code",
   "execution_count": 7,
   "metadata": {},
   "outputs": [],
   "source": [
    "# Definimos ejemplos de funciones de cruce, mutación y fitness para este problema. Puedes definir otros operadores si quieres.\n",
    "\n",
    "def fun_cruzar(cromosoma1, cromosoma2):\n",
    "    \"\"\"Cruza los cromosomas por la mitad (podemos cambiar la función de cruce eligiendo otro punto de cruce al azar)\"\"\"\n",
    "    l1 = len(cromosoma1)\n",
    "    l2 = len(cromosoma2)\n",
    "    cruce1 = cromosoma1[0:l1//2]+cromosoma2[l1//2:l2]\n",
    "    cruce2 = cromosoma2[0:l2//2]+cromosoma1[l2//2:l1]\n",
    "    return [cruce1,cruce2]\n",
    "\n",
    "def fun_mutar(cromosoma,prob):\n",
    "    \"\"\"Elige un elemento al azar del cromosoma y lo modifica con una probabilidad igual a prob\"\"\"\n",
    "    l = len(cromosoma)\n",
    "    p = random.randint(0,l-1)\n",
    "    if prob > random.uniform(0,1):\n",
    "        cromosoma[p] =  (cromosoma[p]+1)%2\n",
    "    return cromosoma\n",
    "\n",
    "def fun_fitness_cuad(cromosoma):\n",
    "    \"\"\"Función de valoración que eleva al cuadrado el número recibido en binario\"\"\"\n",
    "    n = binario_a_decimal(cromosoma)**2\n",
    "    return n"
   ]
  },
  {
   "cell_type": "code",
   "execution_count": 8,
   "metadata": {},
   "outputs": [],
   "source": [
    "# Definimos una instancia de la clase Problema Genetico correspondiente al problema de optimizar (maximizar o minimizar) la función cuadrado.\n",
    "cuadrados = ProblemaGenetico([0,1],binario_a_decimal,fun_mutar, fun_cruzar, fun_fitness_cuad,10)"
   ]
  },
  {
   "cell_type": "markdown",
   "metadata": {},
   "source": [
    "Una vez definida la instancia cuadrados que representa el problema genético, probar alguna de las funciones definidas en la clase anterior, para esta instancia concreta. Por ejemplo:"
   ]
  },
  {
   "cell_type": "code",
   "execution_count": 9,
   "metadata": {},
   "outputs": [
    {
     "data": {
      "text/plain": [
       "1125"
      ]
     },
     "execution_count": 9,
     "metadata": {},
     "output_type": "execute_result"
    }
   ],
   "source": [
    "cuadrados.decodifica([1,0,0,0,1,1,0,0,1,0,1])\n",
    "# Salida esperada: 1125"
   ]
  },
  {
   "cell_type": "code",
   "execution_count": 10,
   "metadata": {},
   "outputs": [
    {
     "data": {
      "text/plain": [
       "1265625"
      ]
     },
     "execution_count": 10,
     "metadata": {},
     "output_type": "execute_result"
    }
   ],
   "source": [
    "cuadrados.fitness([1,0,0,0,1,1,0,0,1,0,1])\n",
    "# Salida esperada: 1265625"
   ]
  },
  {
   "cell_type": "code",
   "execution_count": 11,
   "metadata": {},
   "outputs": [
    {
     "data": {
      "text/plain": [
       "[1, 0, 0, 0, 0, 1, 0, 0, 1, 0, 1]"
      ]
     },
     "execution_count": 11,
     "metadata": {},
     "output_type": "execute_result"
    }
   ],
   "source": [
    "cuadrados.muta([1,0,0,0,1,1,0,0,1,0,1],0.9)\n",
    "# La mutación es aleatoria. Posible salida: [1, 0, 0, 0, 1, 1, 0, 0, 1, 0, 1]"
   ]
  },
  {
   "cell_type": "code",
   "execution_count": 12,
   "metadata": {},
   "outputs": [
    {
     "data": {
      "text/plain": [
       "[1, 0, 0, 0, 1, 1, 0, 0, 1, 0, 1]"
      ]
     },
     "execution_count": 12,
     "metadata": {},
     "output_type": "execute_result"
    }
   ],
   "source": [
    "cuadrados.muta([1,0,0,0,1,1,0,0,1,0,1],0.1)\n",
    "# Posible salida: [0, 0, 0, 0, 1, 1, 0, 0, 1, 0, 1]"
   ]
  },
  {
   "cell_type": "code",
   "execution_count": 13,
   "metadata": {},
   "outputs": [
    {
     "data": {
      "text/plain": [
       "[[1, 0, 0, 0, 1, 0, 0, 1, 1, 1], [0, 1, 1, 0, 1, 1, 0, 0, 1, 0, 1]]"
      ]
     },
     "execution_count": 13,
     "metadata": {},
     "output_type": "execute_result"
    }
   ],
   "source": [
    "cuadrados.cruza([1,0,0,0,1,1,0,0,1,0,1],[0,1,1,0,1,0,0,1,1,1])\n",
    "# Posible salida: [[1, 0, 0, 0, 1, 0, 0, 1, 1, 1], [0, 1, 1, 0, 1, 1, 0, 0, 1, 0, 1]]"
   ]
  },
  {
   "cell_type": "markdown",
   "metadata": {},
   "source": [
    "La siguiente función poblacion_inicial(problema_genetico,tamaño) permite definir una población inicial de un tamaño dado, para una instancia dada de la clase anterior ProblemaGenetico"
   ]
  },
  {
   "cell_type": "code",
   "execution_count": 14,
   "metadata": {},
   "outputs": [],
   "source": [
    "def poblacion_inicial(problema_genetico, size):\n",
    "    l=[] # población inicial\n",
    "    for i in range(size): # añadimos a la población size individuos\n",
    "        x=[]\n",
    "        for j in range(problema_genetico.longitud_individuos): # los individuos se generan eligiendo sus genes\n",
    "                                                               # de manera eleatoria de entre los genes posibles\n",
    "            x.append(random.choice(problema_genetico.genes))\n",
    "        l.append(x) \n",
    "    return l"
   ]
  },
  {
   "cell_type": "code",
   "execution_count": 15,
   "metadata": {},
   "outputs": [
    {
     "data": {
      "text/plain": [
       "[[1, 0, 0, 1, 0, 0, 1, 0, 0, 1],\n",
       " [1, 1, 1, 1, 0, 0, 1, 1, 0, 1],\n",
       " [0, 0, 1, 0, 0, 1, 1, 1, 0, 1],\n",
       " [1, 1, 1, 0, 0, 1, 1, 1, 0, 1],\n",
       " [0, 1, 0, 1, 0, 1, 0, 1, 0, 1],\n",
       " [1, 0, 1, 0, 1, 1, 1, 1, 0, 0],\n",
       " [1, 1, 0, 0, 0, 0, 1, 0, 1, 0],\n",
       " [1, 0, 1, 1, 1, 1, 1, 0, 0, 1],\n",
       " [0, 1, 0, 1, 0, 0, 0, 1, 0, 1],\n",
       " [1, 1, 0, 1, 1, 0, 1, 1, 0, 0]]"
      ]
     },
     "execution_count": 15,
     "metadata": {},
     "output_type": "execute_result"
    }
   ],
   "source": [
    "poblacion_inicial(cuadrados,10)"
   ]
  },
  {
   "cell_type": "markdown",
   "metadata": {},
   "source": [
    "Definimos la función de cruce que recibe una instancia de Problema_Genetico y una población de padres (supondremos que hay un número par de padres), obtiene la población resultante de cruzarlos de dos en dos (en el orden en que aparecen)\n",
    "cruza_padres(problema_genetico,padres)"
   ]
  },
  {
   "cell_type": "code",
   "execution_count": 16,
   "metadata": {},
   "outputs": [],
   "source": [
    "def cruza_padres(problema_genetico,padres):\n",
    "    l = []\n",
    "    for i in range(len(padres)//2):# asumimos que la población de la que partimos tiene tamaño par\n",
    "        desc = problema_genetico.fun_cruza(padres[2*i],padres[2*i+1]) # El cruce se realiza con la función de cruce  \n",
    "                                                                     # proporcionada por el propio problema genético\n",
    "        l.append(desc[0]) # La población resultante se obtiene de cruzar el padre[0] con padre[1], padre[2] con padre[3]...\n",
    "        l.append(desc[1]) # y añadir cada par de descendientes a la nueva población\n",
    "    return l"
   ]
  },
  {
   "cell_type": "code",
   "execution_count": 17,
   "metadata": {},
   "outputs": [
    {
     "data": {
      "text/plain": [
       "[[1, 1, 0, 1, 0, 0, 1, 0, 1, 1],\n",
       " [0, 1, 0, 1, 0, 1, 0, 0, 0, 1],\n",
       " [0, 0, 1, 0, 0, 1, 1, 1, 1, 0],\n",
       " [0, 0, 1, 1, 1, 0, 1, 1, 1, 0],\n",
       " [0, 1, 1, 0, 0, 0, 1, 1, 0, 1],\n",
       " [1, 0, 1, 1, 1, 0, 0, 0, 0, 0]]"
      ]
     },
     "execution_count": 17,
     "metadata": {},
     "output_type": "execute_result"
    }
   ],
   "source": [
    "p1 = [[1, 1, 0, 1, 0, 1, 0, 0, 0, 1],\n",
    "      [0, 1, 0, 1, 0, 0, 1, 0, 1, 1],\n",
    "      [0, 0, 1, 0, 0, 0, 1, 1, 1, 0],\n",
    "      [0, 0, 1, 1, 1, 1, 1, 1, 1, 0],\n",
    "      [0, 1, 1, 0, 0, 0, 0, 0, 0, 0],\n",
    "      [1, 0, 1, 1, 1, 0, 1, 1, 0, 1]]\n",
    "\n",
    "cruza_padres(cuadrados,p1)\n",
    "# Posible salida\n",
    "# [[1, 1, 0, 1, 0, 0, 1, 0, 1, 1],\n",
    "#  [0, 1, 0, 1, 0, 1, 0, 0, 0, 1],\n",
    "#  [0, 0, 1, 1, 1, 1, 1, 1, 1, 0],\n",
    "#  [0, 0, 1, 0, 0, 0, 1, 1, 1, 0],\n",
    "#  [0, 1, 1, 1, 1, 0, 1, 1, 0, 1],\n",
    "#  [1, 0, 1, 0, 0, 0, 0, 0, 0, 0]]"
   ]
  },
  {
   "cell_type": "markdown",
   "metadata": {},
   "source": [
    "La función de mutación recibe una instancia de Problema_Genetico, una población y una probabilidad de mutación y obtiene la población resultante de aplicar operaciones de mutación a cada individuo llamando a la función muta definida para el problema genético.  muta_individuos(problema_genetico, poblacion, prob)"
   ]
  },
  {
   "cell_type": "code",
   "execution_count": 18,
   "metadata": {},
   "outputs": [],
   "source": [
    "def muta_individuos(problema_genetico, poblacion, prob):\n",
    "    # problema_genetico.muta(x,prob) para todos los individuos de la poblacion.\n",
    "    l = []\n",
    "    for i in poblacion:\n",
    "        l.append(problema_genetico.muta(i,prob))\n",
    "    return l"
   ]
  },
  {
   "cell_type": "code",
   "execution_count": 19,
   "metadata": {
    "scrolled": true
   },
   "outputs": [
    {
     "data": {
      "text/plain": [
       "[[1, 1, 0, 1, 0, 1, 0, 0, 0, 1],\n",
       " [0, 1, 0, 1, 0, 0, 0, 0, 1, 1],\n",
       " [0, 0, 1, 0, 0, 0, 1, 1, 1, 0],\n",
       " [0, 0, 1, 1, 1, 1, 1, 1, 1, 0],\n",
       " [0, 1, 1, 0, 0, 1, 0, 0, 0, 0],\n",
       " [1, 0, 1, 0, 1, 0, 1, 1, 0, 1]]"
      ]
     },
     "execution_count": 19,
     "metadata": {},
     "output_type": "execute_result"
    }
   ],
   "source": [
    "muta_individuos(cuadrados,p1,0.5)\n",
    "# Posible salida:\n",
    "#  [[1, 1, 0, 1, 0, 1, 0, 0, 0, 1],\n",
    "#   [0, 1, 0, 1, 0, 0, 1, 0, 0, 1],\n",
    "#   [0, 0, 1, 0, 0, 0, 1, 0, 1, 0],\n",
    "#   [0, 0, 1, 1, 1, 1, 1, 1, 1, 0],\n",
    "#   [0, 1, 0, 0, 0, 0, 0, 0, 0, 0],\n",
    "#   [1, 0, 1, 1, 1, 0, 1, 1, 0, 1]]"
   ]
  },
  {
   "cell_type": "markdown",
   "metadata": {},
   "source": [
    "Vamos a definir una función de selección mediante torneo de n individuos de una población.  \n",
    "La función recibe como entrada:\n",
    " - una instancia de la clase ProblemaGenetico\n",
    " - una población\n",
    " - el número n de individuos que vamos a seleccionar\n",
    " - el número k de participantes en el torneo\n",
    " - un valor opt que puede ser o la función max o la función min (dependiendo de si el problema es de maximización o de minimización, resp.).\n",
    "\n",
    "seleccion\\_por\\_torneo(problema_genetico,poblacion,n,k,opt) \n",
    "\n",
    "Usar random.sample para seleccionar k elementos de una secuencia. \n",
    "Por ejemplo, random.sample(population=[2,5,7,8,9], k=3) devuelve [7,5,8]. "
   ]
  },
  {
   "cell_type": "code",
   "execution_count": 20,
   "metadata": {},
   "outputs": [],
   "source": [
    "def seleccion_por_torneo(problema_genetico, poblacion, n, k, opt):\n",
    "    \"\"\"Selección por torneo de n individuos de una población. Siendo k el nº de participantes\n",
    "        y opt la función max o min.\"\"\"\n",
    "    seleccionados = []\n",
    "    for i in range(n):\n",
    "        participantes = random.sample(poblacion,k)\n",
    "        seleccionado = opt(participantes, key=problema_genetico.fitness)\n",
    "        opt(poblacion, key=problema_genetico.fitness)\n",
    "        seleccionados.append(seleccionado)\n",
    "        # poblacion.remove(seleccionado)\n",
    "    return seleccionados  "
   ]
  },
  {
   "cell_type": "code",
   "execution_count": 21,
   "metadata": {},
   "outputs": [
    {
     "data": {
      "text/plain": [
       "[[1, 0, 1, 1, 1, 1, 1, 1, 1, 0],\n",
       " [1, 0, 1, 1, 1, 1, 1, 1, 1, 0],\n",
       " [1, 0, 1, 1, 1, 1, 1, 1, 1, 0]]"
      ]
     },
     "execution_count": 21,
     "metadata": {},
     "output_type": "execute_result"
    }
   ],
   "source": [
    "#Ejemplo\n",
    "seleccion_por_torneo(cuadrados, poblacion_inicial(cuadrados,8),3,6,max)\n",
    "# Posible salida: [[1, 1, 1, 1, 1, 0, 0, 0, 1, 1], [1, 0, 0, 1, 1, 1, 0, 1, 0, 1], [1, 1, 1, 1, 0, 1, 1, 1, 0, 1]]\n"
   ]
  },
  {
   "cell_type": "code",
   "execution_count": 22,
   "metadata": {},
   "outputs": [
    {
     "data": {
      "text/plain": [
       "[[0, 0, 0, 0, 0, 0, 0, 0, 0, 1],\n",
       " [0, 0, 0, 1, 0, 0, 0, 0, 1, 0],\n",
       " [0, 0, 0, 0, 0, 0, 0, 0, 0, 1]]"
      ]
     },
     "execution_count": 22,
     "metadata": {},
     "output_type": "execute_result"
    }
   ],
   "source": [
    "seleccion_por_torneo(cuadrados, poblacion_inicial(cuadrados,8),3,6,min)\n",
    "# [[0, 0, 1, 1, 0, 1, 1, 0, 0, 0], [1, 0, 1, 0, 1, 1, 1, 0, 0, 0], [1, 1, 0, 1, 0, 0, 1, 0, 1, 0]]"
   ]
  },
  {
   "cell_type": "code",
   "execution_count": 23,
   "metadata": {},
   "outputs": [],
   "source": [
    "# La siguiente función implementa una posibilidad para el algoritmo genético completo con los elementos anteriores: \n",
    "# inicializa t = 0 \n",
    "# Generar y evaluar la Población P(t)\n",
    "# Mientras no hemos llegado al número de generaciones fijado:  t < nGen\n",
    "#    P1 = Selección por torneo de (1-size)·p individuos de P(t)\n",
    "#    P2 = Selección por torneo de (size·p) individuos de P(t)\n",
    "#    Aplicar cruce en la población P2\n",
    "#    P4 = Union de P1 y P3\n",
    "#    P(t+1) := Aplicar mutación P4 \n",
    "#    Evalua la población P(t+1) \n",
    "#    t:= t+1\n",
    "        \n",
    "# Sus argumentos son:\n",
    "# problema_genetico: una instancia de la clase ProblemaGenetico con la representación adecuada del problema de optimización \n",
    "# que se quiere resolver.\n",
    "# k: número de participantes en los torneos de selección.\n",
    "# opt: max ó min, dependiendo si el problema es de maximización o de minimización. \n",
    "# nGen: número de generaciones (que se usa como condición de terminación)\n",
    "# size: número de individuos en cada generación\n",
    "# prop_cruce: proporción del total de la población que serán padres. \n",
    "# prob_mutación: probabilidad de realizar una mutación de un gen.\n",
    "\n",
    "def algoritmo_genetico(problema_genetico,k,opt,ngen,size,prop_cruces,prob_mutar):\n",
    "    poblacion= poblacion_inicial(problema_genetico,size)\n",
    "    n_padres=round(size*prop_cruces)\n",
    "    n_padres= int (n_padres if n_padres%2==0 else n_padres-1)\n",
    "    n_directos = size-n_padres\n",
    "    for _ in range(ngen):\n",
    "        poblacion= nueva_generacion(problema_genetico,k,opt,poblacion,n_padres, n_directos,prob_mutar)\n",
    "\n",
    "    mejor_cr= opt(poblacion, key=problema_genetico.fitness)\n",
    "    mejor=problema_genetico.decodifica(mejor_cr)\n",
    "    return (mejor,problema_genetico.fitness(mejor_cr)) \n"
   ]
  },
  {
   "cell_type": "markdown",
   "metadata": {},
   "source": [
    "Observa que dada una población la función auxiliar nueva_generacion(problema_genetico,poblacion,n_padres,n_directos,prob_mutar) se encarga de calcular la siguiente generación.        "
   ]
  },
  {
   "cell_type": "code",
   "execution_count": 24,
   "metadata": {},
   "outputs": [],
   "source": [
    "#Definir la función nueva_generacion\n",
    "def nueva_generacion(problema_genetico, k,opt, poblacion, n_padres, n_directos, prob_mutar):\n",
    "    padres2 = seleccion_por_torneo(problema_genetico, poblacion, n_directos, k,opt) \n",
    "    padres1 = seleccion_por_torneo(problema_genetico, poblacion, n_padres , k, opt)\n",
    "    cruces =  cruza_padres(problema_genetico,padres1)\n",
    "    generacion = padres2+cruces\n",
    "    resultado_mutaciones = muta_individuos(problema_genetico, generacion, prob_mutar)\n",
    "    return resultado_mutaciones"
   ]
  },
  {
   "attachments": {
    "image-2.png": {
     "image/png": "[encoded data removed]"
    },
    "image.png": {
     "image/png": "[encoded data removed]"
    }
   },
   "cell_type": "markdown",
   "metadata": {},
   "source": [
    "#### Ejecutar el algoritmo genético anterior, para resolver el problema anterior (tanto en minimización como en maximización) para una función compleja de tu elección. \n",
    "\n",
    "Se recomienda comenzar probando los resultados y comportamiento del algoritmo para la función X^2 (ya que sabemos la solución).\n",
    "Después se pide hacer una valoración de resultados y comentarios sobre el comportamiento del algoritmmo para otra función que elijas. Puedes elegir cualquier otra función compleja. Ejemplo:\n",
    "\n",
    "f(x) = |(x-12)/(2+sen(x)|  \n",
    "entre X=-5 y X=25\n",
    "\n",
    "Sólo tendras que modificar la representación (para permitir números negativos) y la función de fitness.\n",
    "\n",
    "\n",
    "![image.png](attachment:image.png)\n",
    "\n",
    "![image-2.png](attachment:image-2.png)\n",
    "\n",
    "En la resolución del problema hay que tener en cuenta que el algoritmo genético devuelve un par con el mejor fenotipo encontrado y su valoración.\n",
    "\n",
    "Se puede calcular el número de veces que el algoritmo alcanza la solución óptima modificando parámetros como:\n",
    "\n",
    "    -k=número de participantes del torneo\n",
    "    -ngen=número de generaciones\n",
    "    -size=tamaño de la población\n",
    "    -prob_cruce=probabilidad de cruce\n",
    "    -prob_mutacion=probabilidad de mutacion\n",
    "\n",
    "Una vez configurado el algoritmo no se ejecuta una única vez. Para evaluar convenientemente una representación hay que realizar pruebas para un número suficiente de ejecuciones para las cuales queremos estudiar cual es el porcentaje de optimalidad del algoritmo para los distintos parámetros y de ahí sacar conclusiones. \n",
    "Una vez que se conoce la solución se pueden considerar exitosas soluciones aproximadas, por ejemplo, que para el problema de minimización es exitosa si la solución es menor que 23 y para el problema de maximización una solución será exitosa si es mayor que 1000."
   ]
  },
  {
   "cell_type": "code",
   "execution_count": 25,
   "metadata": {},
   "outputs": [
    {
     "data": {
      "text/plain": [
       "(0, 0)"
      ]
     },
     "execution_count": 25,
     "metadata": {},
     "output_type": "execute_result"
    }
   ],
   "source": [
    "# observa que 20 generaciones son muy pocas (y los resultados son malos) prueba más generaciones para obtener mejores resultados.\n",
    "algoritmo_genetico(cuadrados,3,min,200,10,0.7,0.1)\n",
    "# Solución óptima: (0, 0)"
   ]
  },
  {
   "cell_type": "code",
   "execution_count": 26,
   "metadata": {},
   "outputs": [
    {
     "data": {
      "text/plain": [
       "(1023, 1046529)"
      ]
     },
     "execution_count": 26,
     "metadata": {},
     "output_type": "execute_result"
    }
   ],
   "source": [
    "algoritmo_genetico(cuadrados,3,max,20,10,0.7,0.1)\n",
    "# Solución óptima: (1023, 1046529)"
   ]
  },
  {
   "cell_type": "raw",
   "metadata": {},
   "source": [
    "# Recordamos los argumentos son:\n",
    "# problema_genetico: una instancia de la clase ProblemaGenetico con la representación adecuada del problema de optimización \n",
    "# que se quiere resolver.\n",
    "# k: número de participantes en los torneos de selección.\n",
    "# opt: max ó min, dependiendo si el problema es de maximización o de minimización. \n",
    "# nGen: número de generaciones (que se usa como condición de terminación)\n",
    "# size: número de individuos en cada generación\n",
    "# prop_cruce: proporción del total de la población que serán padres. \n",
    "# prob_mutación: probabilidad de realizar una mutación de un gen.\n",
    "\n",
    "def algoritmo_genetico(problema_genetico,k,opt,ngen,size,prop_cruces,prob_mutar)\n"
   ]
  },
  {
   "cell_type": "markdown",
   "metadata": {},
   "source": [
    "\n",
    "### Problema tipo 2 a resolver: encontrar los valores (X,Y,Z,T) que resuelvan una ecuación\n",
    "\n",
    "Por ejemplo, queremos resolver una ecuación del tipo  34*X + 100*Y + 2*Z + 66*T = 220 con un algoritmo genético.\n",
    "\n",
    "En este caso, se puede optar por una representación binaria, o podemos definir los cromosomas con un vector de 4 números enteros que representan las soluciones \n",
    "(X, Y, Z, T)  "
   ]
  },
  {
   "cell_type": "markdown",
   "metadata": {},
   "source": [
    "### Problema tipo 3 a resolver: problema de la mochila \n",
    "\n",
    "Se plantea el típico problema de la mochila en el que dados n objetos de pesos conocidos pi y valor vi (i=1,...,n) hay que elegir cuáles se meten en una mochila que soporta un peso P máximo. La selección debe hacerse de forma que se máximice el valor de los objetos introducidos sin superar el peso máximo.\n",
    "\n",
    "Se propone una representación del problema de la mochila usando genes [0,1] y longitud de los individuos n.\n",
    "Los valores 1 ó 0 representan, respectivamente, si el objeto se introduce o no en la mochila.\n",
    "\n",
    "Tomados de izquerda a derecha, a partir del primero que no cabe, se consideran todos fuera de la mochila,independientemente del gen en su posición. De esta manera, todos los individuos representan candidatos válidos.\n",
    "\n",
    "El numero de objetos n determina la longitud de los individuos de la población. En primer lugar es necesario definir una función de decodificación de la mochila que recibe como entrada:\n",
    "- un cromosoma (en este caso, una lista de 0s y 1s, de longitud igual a n_objetos)\n",
    "- n: número total de objetos de la mochila\n",
    "- pesos: una lista con los pesos de los objetos\n",
    "- capacidad: peso máximo de la mochila. \n",
    "\n",
    "La función decodifica recibe (cromosoma, n, pesos, capacidad) y devuelve una lista de 0s y 1s que indique qué objetos están en la mochila y cuáles no (el objeto i está en la mochila si y sólo si en la posición i-ésima de la lista hay un 1). Esta lista se obtendrá a partir del cromosoma, pero teniendo en cuenta que a partir del primer objeto que no quepa, éste y los siguientes se consideran fuera de la mochila, independientemente del valor que haya en su correspondiente posición de cromosoma."
   ]
  },
  {
   "cell_type": "code",
   "execution_count": 27,
   "metadata": {},
   "outputs": [],
   "source": [
    "def decodifica(cromosoma, n, pesos, capacidad):\n",
    "    peso_en_mochila = 0\n",
    "    l = []\n",
    "    for i in range(n):\n",
    "        if cromosoma[i] == 1 and peso_en_mochila + pesos[i] <= capacidad:\n",
    "            l.append(1)\n",
    "            peso_en_mochila += pesos[i]\n",
    "        elif cromosoma[i]== 0 or peso_en_mochila + pesos[i] > capacidad:\n",
    "            l.append(0)\n",
    "    return l "
   ]
  },
  {
   "cell_type": "code",
   "execution_count": 28,
   "metadata": {},
   "outputs": [
    {
     "data": {
      "text/plain": [
       "[1, 1, 0, 0, 0]"
      ]
     },
     "execution_count": 28,
     "metadata": {},
     "output_type": "execute_result"
    }
   ],
   "source": [
    "decodifica([1,1,1,1,1], 5, [2,3,4,5,1], 5)"
   ]
  },
  {
   "cell_type": "markdown",
   "metadata": {},
   "source": [
    "Para definir la función de evaluación (fitness) necesitamos calcular el valor total de los objetos que están dentro de la mochila que representa el cromosoma según la codificación utilizada en la función anterior.\n",
    "\n",
    "Se pide la función fitness (cromosoma, n_objetos, pesos, capacidad, valores) donde los parámetros son los mismos que en la función anterior, y valores es la lista de los valores de cada objeto\n",
    "\n",
    "fitness(cromosoma, n_objetos, pesos, capacidad, valores)\n",
    "\n",
    "Ejemplo de uso: fitness([1,1,1,1], 4, [2,3,4,5], 4, [7,1,4,5]) 7"
   ]
  },
  {
   "cell_type": "code",
   "execution_count": 29,
   "metadata": {},
   "outputs": [],
   "source": [
    "def fitness_mochila(cromosoma, n_objetos, pesos, capacidad, valores):\n",
    "    # escribe el código aquí\n",
    "    l = decodifica(cromosoma, n_objetos, pesos, capacidad)\n",
    "    valor = 0\n",
    "    for i in range(len(l)):\n",
    "        if l[i] == 1:\n",
    "            valor += valores[i]\n",
    "\n",
    "    return valor"
   ]
  },
  {
   "cell_type": "code",
   "execution_count": 30,
   "metadata": {},
   "outputs": [
    {
     "data": {
      "text/plain": [
       "7"
      ]
     },
     "execution_count": 30,
     "metadata": {},
     "output_type": "execute_result"
    }
   ],
   "source": [
    "fitness_mochila([1,1,1,1], 4, [2,3,4,5], 4, [7,1,4,5])"
   ]
  },
  {
   "cell_type": "markdown",
   "metadata": {},
   "source": [
    "Damos tres instancias concretas del problema de la mochila. Damos también sus soluciones optimas, para que se puedan comparar con los resultados obtenidos por el algoritmo genético:"
   ]
  },
  {
   "cell_type": "code",
   "execution_count": 31,
   "metadata": {},
   "outputs": [
    {
     "data": {
      "text/plain": [
       "309"
      ]
     },
     "execution_count": 31,
     "metadata": {},
     "output_type": "execute_result"
    }
   ],
   "source": [
    "# Problema de la mochila 1:\n",
    "# 10 objetos, peso máximo 165\n",
    "pesos1 = [23,31,29,44,53,38,63,85,89,82]\n",
    "valores1 = [92,57,49,68,60,43,67,84,87,72]\n",
    "\n",
    "fitness_mochila([1,1,1,1,1,1,1,1,1,1], 10, pesos1, 165, valores1)\n",
    "\n",
    "\n",
    "# Solución óptima= [1,1,1,1,0,1,0,0,0,0], con valor 309"
   ]
  },
  {
   "cell_type": "code",
   "execution_count": 32,
   "metadata": {},
   "outputs": [],
   "source": [
    "# Problema de la mochila 2:\n",
    "# 15 objetos, peso máximo 750\n",
    "\n",
    "pesos2 = [70,73,77,80,82,87,90,94,98,106,110,113,115,118,120]\n",
    "valores2 = [135,139,149,150,156,163,173,184,192,201,210,214,221,229,240]\n",
    "\n",
    "# Solución óptima= [1,0,1,0,1,0,1,1,1,0,0,0,0,1,1] con valor 1458"
   ]
  },
  {
   "cell_type": "code",
   "execution_count": 33,
   "metadata": {},
   "outputs": [],
   "source": [
    "# Problema de la mochila 3:\n",
    "# 24 objetos, peso máximo 6404180\n",
    "pesos3 = [382745,799601,909247,729069,467902, 44328,\n",
    "       34610,698150,823460,903959,853665,551830,610856,\n",
    "       670702,488960,951111,323046,446298,931161, 31385,496951,264724,224916,169684]\n",
    "valores3 = [825594,1677009,1676628,1523970, 943972,  97426,\n",
    "       69666,1296457,1679693,1902996,\n",
    "       1844992,1049289,1252836,1319836, 953277,2067538, 675367,\n",
    "       853655,1826027, 65731, 901489, 577243, 466257, 369261]\n",
    "\n",
    "# Solución óptima= [1,1,0,1,1,1,0,0,0,1,1,0,1,0,0,1,0,0,0,0,0,1,1,1] con valoración 13549094"
   ]
  },
  {
   "cell_type": "markdown",
   "metadata": {},
   "source": [
    "Definir variables m1g, m2g y m3g, referenciando a instancias de Problema_Genetico que correspondan, respectivamente, a los problemas de la mochila anteriores. Resuelve los problemas y comentar los resultados obtenidos en cuanto a eficiencia y calidad de los resultados obtenidos."
   ]
  },
  {
   "cell_type": "markdown",
   "metadata": {},
   "source": [
    "### Problema tipo 4 a resolver: puzle\n",
    "\n",
    "Resolver mediante una configuración de un algoritmo genético el problema de los Ocho Consecutivos que distribuye los números 1 \n",
    "al 8 en las ocho casillas de la figura, con la condición de que no puede haber dos números consecutivos en casillas adyacentes. Se consideran casillas adyacentes aquéllas que comparten un lado.\n",
    "\n",
    "La siguiente configuración representa una solución al problema:\n",
    "    \n",
    "    2 6 8 5 \n",
    "    7 4 1 3\n",
    "    \n",
    "**Completa la implementación** y prueba el resultado y el rendimiento del algoritmo.   \n",
    "Observa que este es un problema de permutaciones y requiere mecanismos de cruce y mutación adecuados."
   ]
  },
  {
   "cell_type": "code",
   "execution_count": 34,
   "metadata": {},
   "outputs": [],
   "source": [
    "class ProblemaGeneticoOchoConsecutivos(object):\n",
    "        def __init__(self,fun_dec,fun_muta , fun_cruza, fun_fitness):\n",
    "            self.fun_dec = fun_dec\n",
    "            self.fun_cruza = fun_cruza\n",
    "            self.fun_muta = fun_muta\n",
    "            self.fun_fitness = fun_fitness\n",
    "                \n",
    "        def decodifica(self, genotipo):\n",
    "            \"\"\"Devuelve el fenotipo a partir del genotipo\"\"\"\n",
    "            fenotipo = self.fun_dec(genotipo)\n",
    "            return fenotipo\n",
    "        \n",
    "        def muta(self, cromosoma,prob):\n",
    "            \"\"\"Devuelve el cromosoma mutado\"\"\"   \n",
    "            mutante = self.fun_muta(cromosoma,prob)\n",
    "            return mutante\n",
    "        \n",
    "        def cruza(self, cromosoma1, cromosoma2):         \n",
    "            \"\"\"Devuelve el cruce de un par de cromosomas\"\"\"\n",
    "            cruce = self.fun_cruza(cromosoma1,cromosoma2)\n",
    "            return cruce \n",
    "        \n",
    "        def fitness(self, cromosoma):    \n",
    "            \"\"\"Función de valoración\"\"\"\n",
    "            valoracion = self.fun_fitness(cromosoma)\n",
    "            return valoracion"
   ]
  },
  {
   "cell_type": "code",
   "execution_count": 35,
   "metadata": {},
   "outputs": [],
   "source": [
    "#Funcion que trasnforma la lista de numeros, en una matriz 2x4\n",
    "def lista_a_matriz(cromosoma):\n",
    "    salida=[]\n",
    "    \n",
    "    linea=[]\n",
    "    for i in range(len(cromosoma)//2):\n",
    "        linea.append(cromosoma[i])\n",
    "    salida.append(linea)\n",
    "    \n",
    "    linea=[]\n",
    "    for i in range(len(cromosoma)//2,len(cromosoma)):\n",
    "        linea.append(cromosoma[i])\n",
    "    salida.append(linea)\n",
    "    return salida"
   ]
  },
  {
   "cell_type": "code",
   "execution_count": 36,
   "metadata": {},
   "outputs": [],
   "source": [
    "# Vamos a utilizar una version de PMX para cruzar\n",
    "def fun_cruzarPMX(cromosoma1, cromosoma2):\n",
    "    l = len(cromosoma1)\n",
    "    p1 = random.randint(0,l-1)\n",
    "    p2 = random.randint(p1,l-1)\n",
    "    cruzar1 = PMX(cromosoma1,cromosoma2,p1,p2)\n",
    "    cruzar2 = PMX(cromosoma2,cromosoma1,p1,p2)\n",
    "    return [cruzar1,cruzar2]\n",
    "\n",
    "def PMX(cP,cH,p1,p2):\n",
    "    #Inicializamos la lista para poder acceder a las coordenadas directamente\n",
    "    salida =[]\n",
    "    for _ in range(len(cP)):\n",
    "        salida.append(0)\n",
    "    \n",
    "    #Insertamos la parte del CromosomaP\n",
    "    for i in range(p1,p2+1):\n",
    "        salida[i]=cP[i]\n",
    "        \n",
    "    #Rellenamos el array con el otro Cromosoma\n",
    "    for i in range(p1,p2+1):\n",
    "        num = cH[i]\n",
    "        if not num in salida:\n",
    "            numP = cP[i]\n",
    "            index = cH.index(numP)\n",
    "            while salida[index]!=0:\n",
    "                numP = cP[index]\n",
    "                index = cH.index(numP)\n",
    "            salida[index]=num\n",
    "            \n",
    "    #Terminamos de rellenarlo\n",
    "    for i in range(len(salida)):\n",
    "        if salida[i]==0:\n",
    "            salida[i]=cH[i]\n",
    "            \n",
    "    return salida\n",
    "\n",
    "#Vamor a utilizar una funcion de cruze por orden\n",
    "def fun_cruzarOrden(cromosoma1, cromosoma2):\n",
    "    l = len(cromosoma1)\n",
    "    p1 = random.randint(0,l-1)\n",
    "    p2 = random.randint(p1,l-1)\n",
    "    cruzar1 = orden(cromosoma1,cromosoma2,p1,p2)\n",
    "    cruzar2 = orden(cromosoma2,cromosoma1,p1,p2)\n",
    "    return [cruzar1,cruzar2]\n",
    "\n",
    "def orden(cP,cH,p1,p2):\n",
    "    #Inicializamos la lista para poder acceder a las coordenadas directamente\n",
    "    salida =[]\n",
    "    for _ in range(len(cP)):\n",
    "        salida.append(0)\n",
    "    \n",
    "    #Insertamos la parte del CromosomaP\n",
    "    for i in range(p1,p2+1):\n",
    "        salida[i]=cP[i]\n",
    "        \n",
    "    #Insertamos los elementos que faltan el orden que se encuentran en cH empezando por P2\n",
    "    index=p2+1\n",
    "    indexcH=p2+1\n",
    "    while salida[index%len(salida)]==0:\n",
    "        while cH[indexcH%len(cH)] in salida:\n",
    "            indexcH+=1\n",
    "        salida[index%len(salida)]=cH[indexcH%len(cH)]\n",
    "        index+=1\n",
    "        \n",
    "    return salida\n",
    "\n",
    "#funcion que intercambia un par de elementos del cromosoma\n",
    "def fun_mutar_par(cromosoma,prob):\n",
    "    #Elegimos dos puntos del array para intercambiarlos\n",
    "    l = len(cromosoma)\n",
    "    p1 = random.randint(0,l-1)\n",
    "    p2 = random.randint(0,l-1)\n",
    "    \n",
    "    #Queremos tener dos puntos distintos\n",
    "    while p1==p2:\n",
    "        p2 = random.randint(0,l-1)\n",
    "    \n",
    "    #Si la probabilidad sale favorable los intercambiamos\n",
    "    if prob > random.uniform(0,1):\n",
    "        aux = cromosoma[p1]\n",
    "        cromosoma[p1]=cromosoma[p2]\n",
    "        cromosoma[p2]=aux\n",
    "    return cromosoma\n",
    "\n",
    "#funcion que mezcla los elementos entre dos puntos aleatorios\n",
    "def fun_mutar_scramble(cromosoma,prob):\n",
    "    #obtenemos dos puntos tal que 0 <= i <= j <= len(cromosoma)\n",
    "    i=random.randrange(0,len(cromosoma)-1)\n",
    "    j=random.randrange(i,len(cromosoma))\n",
    "    \n",
    "    #si la probabilidad sale favorable mezclamos el fragmento entre i y j\n",
    "    if prob > random.uniform(0,1):\n",
    "        segmento=cromosoma[i:j]\n",
    "        random.shuffle(segmento)\n",
    "        cromosoma =  cromosoma[:i] + segmento + cromosoma[j:]\n",
    "        \n",
    "    return cromosoma\n",
    "\n",
    "#Funcion que obtendra +1 si un numero tiene otro a su alrededor que no sea consecutivo y -1 si es consecutivo\n",
    "def fun_fitness_Ocho_Cons(cromosoma):\n",
    "    # tu código aquí\n",
    "    return n"
   ]
  },
  {
   "cell_type": "code",
   "execution_count": 37,
   "metadata": {},
   "outputs": [],
   "source": [
    "def poblacion_inicial(size):\n",
    "    l=[] # población inicial\n",
    "    # pon tu código aquí\n",
    "    return l\n",
    "\n",
    "#Funcion que craza los padres de forma destructiva\n",
    "def cruza_padres_destructiva(problema_genetico,padres):\n",
    "    l = []\n",
    "    for i in range(len(padres)//2):\n",
    "        desc = problema_genetico.fun_cruza(padres[2*i],padres[2*i+1])                                                      \n",
    "        l.append(desc[0]) \n",
    "        l.append(desc[1])\n",
    "    return l\n",
    "\n",
    "#Funcion que craza los padres de forma NO destructiva, es decir se queda con los dos mejores entre los hijos y los padres\n",
    "def cruza_padres_NO_destructiva(problema_genetico,padres):\n",
    "    l = []\n",
    "    ## pon tu código aquí\n",
    "    return l\n",
    "\n",
    "def muta_individuos(problema_genetico, poblacion, prob):\n",
    "    l = []\n",
    "    for i in poblacion:\n",
    "        l.append(problema_genetico.muta(i,prob))\n",
    "    return l"
   ]
  },
  {
   "cell_type": "markdown",
   "metadata": {},
   "source": [
    "##### Muestra de funcionamiento \n",
    "\n",
    "**Esta ejecución fallará porque debes completar la implementación anterior para poder probarlo**"
   ]
  },
  {
   "cell_type": "code",
   "execution_count": 38,
   "metadata": {},
   "outputs": [
    {
     "ename": "TypeError",
     "evalue": "poblacion_inicial() takes 1 positional argument but 2 were given",
     "output_type": "error",
     "traceback": [
      "\u001b[1;31m---------------------------------------------------------------------------\u001b[0m",
      "\u001b[1;31mTypeError\u001b[0m                                 Traceback (most recent call last)",
      "\u001b[1;32mc:\\Users\\Lubin\\OneDrive\\Documents\\hlocal\\AI-Prac\\Sesión 5. Algoritmos genéticos I-20231113\\geneticos1.ipynb Cell 55\u001b[0m line \u001b[0;36m2\n\u001b[0;32m      <a href='vscode-notebook-cell:/c%3A/Users/Lubin/OneDrive/Documents/hlocal/AI-Prac/Sesi%C3%B3n%205.%20Algoritmos%20gen%C3%A9ticos%20I-20231113/geneticos1.ipynb#Y105sZmlsZQ%3D%3D?line=0'>1</a>\u001b[0m ocho\u001b[39m=\u001b[39mProblemaGeneticoOchoConsecutivos(lista_a_matriz,fun_mutar_par,fun_cruzarPMX,fun_fitness_Ocho_Cons)\n\u001b[1;32m----> <a href='vscode-notebook-cell:/c%3A/Users/Lubin/OneDrive/Documents/hlocal/AI-Prac/Sesi%C3%B3n%205.%20Algoritmos%20gen%C3%A9ticos%20I-20231113/geneticos1.ipynb#Y105sZmlsZQ%3D%3D?line=1'>2</a>\u001b[0m salida\u001b[39m=\u001b[39malgoritmo_genetico(ocho,\u001b[39m2\u001b[39;49m,\u001b[39mmax\u001b[39;49m,\u001b[39m5\u001b[39;49m,\u001b[39m10\u001b[39;49m,\u001b[39m0.7\u001b[39;49m,\u001b[39m0.1\u001b[39;49m) \u001b[39m# variante que devuelve salida \u001b[39;00m\n\u001b[0;32m      <a href='vscode-notebook-cell:/c%3A/Users/Lubin/OneDrive/Documents/hlocal/AI-Prac/Sesi%C3%B3n%205.%20Algoritmos%20gen%C3%A9ticos%20I-20231113/geneticos1.ipynb#Y105sZmlsZQ%3D%3D?line=2'>3</a>\u001b[0m \u001b[39mprint\u001b[39m(\u001b[39mf\u001b[39m\u001b[39m\"\u001b[39m\u001b[39mValor Maximo =20\u001b[39m\u001b[39m\\n\u001b[39;00m\u001b[39mValor obtenido=\u001b[39m\u001b[39m{\u001b[39;00msalida[\u001b[39m1\u001b[39m]\u001b[39m}\u001b[39;00m\u001b[39m\\n\u001b[39;00m\u001b[39mSolucion Obtenida:\u001b[39m\u001b[39m\\n\u001b[39;00m\u001b[39m{\u001b[39;00msalida[\u001b[39m0\u001b[39m][\u001b[39m0\u001b[39m]\u001b[39m}\u001b[39;00m\u001b[39m\\n\u001b[39;00m\u001b[39m{\u001b[39;00msalida[\u001b[39m0\u001b[39m][\u001b[39m1\u001b[39m]\u001b[39m}\u001b[39;00m\u001b[39m\"\u001b[39m)\n",
      "\u001b[1;32mc:\\Users\\Lubin\\OneDrive\\Documents\\hlocal\\AI-Prac\\Sesión 5. Algoritmos genéticos I-20231113\\geneticos1.ipynb Cell 55\u001b[0m line \u001b[0;36m2\n\u001b[0;32m     <a href='vscode-notebook-cell:/c%3A/Users/Lubin/OneDrive/Documents/hlocal/AI-Prac/Sesi%C3%B3n%205.%20Algoritmos%20gen%C3%A9ticos%20I-20231113/geneticos1.ipynb#Y105sZmlsZQ%3D%3D?line=22'>23</a>\u001b[0m \u001b[39mdef\u001b[39;00m \u001b[39malgoritmo_genetico\u001b[39m(problema_genetico,k,opt,ngen,size,prop_cruces,prob_mutar):\n\u001b[1;32m---> <a href='vscode-notebook-cell:/c%3A/Users/Lubin/OneDrive/Documents/hlocal/AI-Prac/Sesi%C3%B3n%205.%20Algoritmos%20gen%C3%A9ticos%20I-20231113/geneticos1.ipynb#Y105sZmlsZQ%3D%3D?line=23'>24</a>\u001b[0m     poblacion\u001b[39m=\u001b[39m poblacion_inicial(problema_genetico,size)\n\u001b[0;32m     <a href='vscode-notebook-cell:/c%3A/Users/Lubin/OneDrive/Documents/hlocal/AI-Prac/Sesi%C3%B3n%205.%20Algoritmos%20gen%C3%A9ticos%20I-20231113/geneticos1.ipynb#Y105sZmlsZQ%3D%3D?line=24'>25</a>\u001b[0m     n_padres\u001b[39m=\u001b[39m\u001b[39mround\u001b[39m(size\u001b[39m*\u001b[39mprop_cruces)\n\u001b[0;32m     <a href='vscode-notebook-cell:/c%3A/Users/Lubin/OneDrive/Documents/hlocal/AI-Prac/Sesi%C3%B3n%205.%20Algoritmos%20gen%C3%A9ticos%20I-20231113/geneticos1.ipynb#Y105sZmlsZQ%3D%3D?line=25'>26</a>\u001b[0m     n_padres\u001b[39m=\u001b[39m \u001b[39mint\u001b[39m (n_padres \u001b[39mif\u001b[39;00m n_padres\u001b[39m%\u001b[39m\u001b[39m2\u001b[39m\u001b[39m==\u001b[39m\u001b[39m0\u001b[39m \u001b[39melse\u001b[39;00m n_padres\u001b[39m-\u001b[39m\u001b[39m1\u001b[39m)\n",
      "\u001b[1;31mTypeError\u001b[0m: poblacion_inicial() takes 1 positional argument but 2 were given"
     ]
    }
   ],
   "source": [
    "ocho=ProblemaGeneticoOchoConsecutivos(lista_a_matriz,fun_mutar_par,fun_cruzarPMX,fun_fitness_Ocho_Cons)\n",
    "salida=algoritmo_genetico(ocho,2,max,5,10,0.7,0.1) # variante que devuelve salida \n",
    "print(f\"Valor Maximo =20\\nValor obtenido={salida[1]}\\nSolucion Obtenida:\\n{salida[0][0]}\\n{salida[0][1]}\")"
   ]
  },
  {
   "cell_type": "raw",
   "metadata": {},
   "source": [
    "Valor Maximo obtenible=20\n",
    "Valor obtenido=20\n",
    "Solucion Obtenida:\n",
    "[6, 1, 7, 4]\n",
    "[2, 5, 3, 8]"
   ]
  }
 ],
 "metadata": {
  "kernelspec": {
   "display_name": "Python 3 (ipykernel)",
   "language": "python",
   "name": "python3"
  },
  "language_info": {
   "codemirror_mode": {
    "name": "ipython",
    "version": 3
   },
   "file_extension": ".py",
   "mimetype": "text/x-python",
   "name": "python",
   "nbconvert_exporter": "python",
   "pygments_lexer": "ipython3",
   "version": "3.10.9"
  },
  "vscode": {
   "interpreter": {
    "hash": "9aff9e50adfaa9e30c910fb3872ffdc72747acb5f50803ca0504f00e980f7c25"
   }
  }
 },
 "nbformat": 4,
 "nbformat_minor": 2
}
